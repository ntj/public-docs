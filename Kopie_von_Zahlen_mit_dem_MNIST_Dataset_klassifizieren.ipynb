{
  "nbformat": 4,
  "nbformat_minor": 0,
  "metadata": {
    "colab": {
      "name": "Kopie von Zahlen mit dem MNIST Dataset klassifizieren",
      "provenance": [],
      "collapsed_sections": [
        "faauS4hlGEzw",
        "1XPqzY9rIOHX",
        "bgcmmKGhJQmw",
        "vM6OEiswJx-6",
        "32KUM1psSQK8",
        "KykdSYJBXwHr"
      ],
      "include_colab_link": true
    },
    "kernelspec": {
      "name": "python3",
      "display_name": "Python 3"
    },
    "language_info": {
      "name": "python"
    },
    "widgets": {
      "application/vnd.jupyter.widget-state+json": {
        "eb1311fa784b4e7a8bff34cf8b4334fb": {
          "model_module": "@jupyter-widgets/controls",
          "model_name": "BoxModel",
          "model_module_version": "1.5.0",
          "state": {
            "_view_name": "BoxView",
            "_dom_classes": [],
            "_model_name": "BoxModel",
            "_view_module": "@jupyter-widgets/controls",
            "_model_module_version": "1.5.0",
            "_view_count": null,
            "_view_module_version": "1.5.0",
            "box_style": "",
            "layout": "IPY_MODEL_c3599756c98f47139d35d333f6da7d6a",
            "_model_module": "@jupyter-widgets/controls",
            "children": [
              "IPY_MODEL_e9672abe8913464f9e4e41cb8a295f73",
              "IPY_MODEL_fc309f020a7c4610b915910ba6f988cf"
            ]
          }
        },
        "c3599756c98f47139d35d333f6da7d6a": {
          "model_module": "@jupyter-widgets/base",
          "model_name": "LayoutModel",
          "model_module_version": "1.2.0",
          "state": {
            "_view_name": "LayoutView",
            "grid_template_rows": null,
            "right": null,
            "justify_content": null,
            "_view_module": "@jupyter-widgets/base",
            "overflow": null,
            "_model_module_version": "1.2.0",
            "_view_count": null,
            "flex_flow": null,
            "width": null,
            "min_width": null,
            "border": null,
            "align_items": "stretch",
            "bottom": null,
            "_model_module": "@jupyter-widgets/base",
            "top": null,
            "grid_column": null,
            "overflow_y": null,
            "overflow_x": null,
            "grid_auto_flow": null,
            "grid_area": null,
            "grid_template_columns": null,
            "flex": null,
            "_model_name": "LayoutModel",
            "justify_items": null,
            "grid_row": null,
            "max_height": null,
            "align_content": null,
            "visibility": null,
            "align_self": null,
            "height": null,
            "min_height": null,
            "padding": null,
            "grid_auto_rows": null,
            "grid_gap": null,
            "max_width": null,
            "order": null,
            "_view_module_version": "1.2.0",
            "grid_template_areas": null,
            "object_position": null,
            "object_fit": null,
            "grid_auto_columns": null,
            "margin": null,
            "display": "flex",
            "left": null
          }
        },
        "e9672abe8913464f9e4e41cb8a295f73": {
          "model_module": "@jupyter-widgets/controls",
          "model_name": "VBoxModel",
          "model_module_version": "1.5.0",
          "state": {
            "_view_name": "VBoxView",
            "_dom_classes": [],
            "_model_name": "VBoxModel",
            "_view_module": "@jupyter-widgets/controls",
            "_model_module_version": "1.5.0",
            "_view_count": null,
            "_view_module_version": "1.5.0",
            "box_style": "",
            "layout": "IPY_MODEL_a2924de17ae04b8faf79548bc272b555",
            "_model_module": "@jupyter-widgets/controls",
            "children": [
              "IPY_MODEL_28fe720857ce4aae87490ba13817e2f0",
              "IPY_MODEL_94ee14dce914469d88f01ad830e418a5"
            ]
          }
        },
        "fc309f020a7c4610b915910ba6f988cf": {
          "model_module": "@jupyter-widgets/controls",
          "model_name": "VBoxModel",
          "model_module_version": "1.5.0",
          "state": {
            "_view_name": "VBoxView",
            "_dom_classes": [],
            "_model_name": "VBoxModel",
            "_view_module": "@jupyter-widgets/controls",
            "_model_module_version": "1.5.0",
            "_view_count": null,
            "_view_module_version": "1.5.0",
            "box_style": "",
            "layout": "IPY_MODEL_6a4a919192374e04804770298cab4c38",
            "_model_module": "@jupyter-widgets/controls",
            "children": [
              "IPY_MODEL_ced6df008fa647d08df28195b4b95719",
              "IPY_MODEL_d64517c5454f41b09901a3cbf20a6ad0"
            ]
          }
        },
        "a2924de17ae04b8faf79548bc272b555": {
          "model_module": "@jupyter-widgets/base",
          "model_name": "LayoutModel",
          "model_module_version": "1.2.0",
          "state": {
            "_view_name": "LayoutView",
            "grid_template_rows": null,
            "right": null,
            "justify_content": null,
            "_view_module": "@jupyter-widgets/base",
            "overflow": null,
            "_model_module_version": "1.2.0",
            "_view_count": null,
            "flex_flow": null,
            "width": null,
            "min_width": null,
            "border": null,
            "align_items": null,
            "bottom": null,
            "_model_module": "@jupyter-widgets/base",
            "top": null,
            "grid_column": null,
            "overflow_y": null,
            "overflow_x": null,
            "grid_auto_flow": null,
            "grid_area": null,
            "grid_template_columns": null,
            "flex": null,
            "_model_name": "LayoutModel",
            "justify_items": null,
            "grid_row": null,
            "max_height": null,
            "align_content": null,
            "visibility": null,
            "align_self": null,
            "height": null,
            "min_height": null,
            "padding": null,
            "grid_auto_rows": null,
            "grid_gap": null,
            "max_width": null,
            "order": null,
            "_view_module_version": "1.2.0",
            "grid_template_areas": null,
            "object_position": null,
            "object_fit": null,
            "grid_auto_columns": null,
            "margin": null,
            "display": null,
            "left": null
          }
        },
        "28fe720857ce4aae87490ba13817e2f0": {
          "model_module": "@jupyter-widgets/controls",
          "model_name": "CheckboxModel",
          "model_module_version": "1.5.0",
          "state": {
            "_view_name": "CheckboxView",
            "style": "IPY_MODEL_25174c4e703c48ba88ad42c237dd92b2",
            "_dom_classes": [],
            "description": "Tipp 1",
            "_model_name": "CheckboxModel",
            "_view_module": "@jupyter-widgets/controls",
            "_model_module_version": "1.5.0",
            "value": false,
            "_view_count": null,
            "disabled": false,
            "_view_module_version": "1.5.0",
            "indent": true,
            "description_tooltip": null,
            "_model_module": "@jupyter-widgets/controls",
            "layout": "IPY_MODEL_477c1d51e9f9419a8ab86d0bf2a5b651"
          }
        },
        "94ee14dce914469d88f01ad830e418a5": {
          "model_module": "@jupyter-widgets/controls",
          "model_name": "TextareaModel",
          "model_module_version": "1.5.0",
          "state": {
            "_view_name": "TextareaView",
            "style": "IPY_MODEL_5abf123634454c0f9ca0f68520c2a4f0",
            "rows": null,
            "_dom_classes": [],
            "description": "",
            "_model_name": "TextareaModel",
            "placeholder": "​",
            "_view_module": "@jupyter-widgets/controls",
            "_model_module_version": "1.5.0",
            "value": "Hier steht der erste Tipp",
            "_view_count": null,
            "disabled": false,
            "_view_module_version": "1.5.0",
            "continuous_update": true,
            "description_tooltip": null,
            "_model_module": "@jupyter-widgets/controls",
            "layout": "IPY_MODEL_8a2ec781ce1748b9802bbb295d3032b5"
          }
        },
        "6a4a919192374e04804770298cab4c38": {
          "model_module": "@jupyter-widgets/base",
          "model_name": "LayoutModel",
          "model_module_version": "1.2.0",
          "state": {
            "_view_name": "LayoutView",
            "grid_template_rows": null,
            "right": null,
            "justify_content": null,
            "_view_module": "@jupyter-widgets/base",
            "overflow": null,
            "_model_module_version": "1.2.0",
            "_view_count": null,
            "flex_flow": null,
            "width": null,
            "min_width": null,
            "border": null,
            "align_items": null,
            "bottom": null,
            "_model_module": "@jupyter-widgets/base",
            "top": null,
            "grid_column": null,
            "overflow_y": null,
            "overflow_x": null,
            "grid_auto_flow": null,
            "grid_area": null,
            "grid_template_columns": null,
            "flex": null,
            "_model_name": "LayoutModel",
            "justify_items": null,
            "grid_row": null,
            "max_height": null,
            "align_content": null,
            "visibility": null,
            "align_self": null,
            "height": null,
            "min_height": null,
            "padding": null,
            "grid_auto_rows": null,
            "grid_gap": null,
            "max_width": null,
            "order": null,
            "_view_module_version": "1.2.0",
            "grid_template_areas": null,
            "object_position": null,
            "object_fit": null,
            "grid_auto_columns": null,
            "margin": null,
            "display": null,
            "left": null
          }
        },
        "ced6df008fa647d08df28195b4b95719": {
          "model_module": "@jupyter-widgets/controls",
          "model_name": "CheckboxModel",
          "model_module_version": "1.5.0",
          "state": {
            "_view_name": "CheckboxView",
            "style": "IPY_MODEL_677e9a1bd76d452ca140f412bb9f0c3f",
            "_dom_classes": [],
            "description": "Tipp 2",
            "_model_name": "CheckboxModel",
            "_view_module": "@jupyter-widgets/controls",
            "_model_module_version": "1.5.0",
            "value": false,
            "_view_count": null,
            "disabled": false,
            "_view_module_version": "1.5.0",
            "indent": true,
            "description_tooltip": null,
            "_model_module": "@jupyter-widgets/controls",
            "layout": "IPY_MODEL_477c1d51e9f9419a8ab86d0bf2a5b651"
          }
        },
        "d64517c5454f41b09901a3cbf20a6ad0": {
          "model_module": "@jupyter-widgets/controls",
          "model_name": "TextareaModel",
          "model_module_version": "1.5.0",
          "state": {
            "_view_name": "TextareaView",
            "style": "IPY_MODEL_66a4bb7da2fb473398c5e2d9acb5eebb",
            "rows": null,
            "_dom_classes": [],
            "description": "",
            "_model_name": "TextareaModel",
            "placeholder": "​",
            "_view_module": "@jupyter-widgets/controls",
            "_model_module_version": "1.5.0",
            "value": "Hier steht der zweite Tipp",
            "_view_count": null,
            "disabled": false,
            "_view_module_version": "1.5.0",
            "continuous_update": true,
            "description_tooltip": null,
            "_model_module": "@jupyter-widgets/controls",
            "layout": "IPY_MODEL_ddf59124b5594376928412de3494238c"
          }
        },
        "25174c4e703c48ba88ad42c237dd92b2": {
          "model_module": "@jupyter-widgets/controls",
          "model_name": "DescriptionStyleModel",
          "model_module_version": "1.5.0",
          "state": {
            "_view_name": "StyleView",
            "_model_name": "DescriptionStyleModel",
            "description_width": "",
            "_view_module": "@jupyter-widgets/base",
            "_model_module_version": "1.5.0",
            "_view_count": null,
            "_view_module_version": "1.2.0",
            "_model_module": "@jupyter-widgets/controls"
          }
        },
        "477c1d51e9f9419a8ab86d0bf2a5b651": {
          "model_module": "@jupyter-widgets/base",
          "model_name": "LayoutModel",
          "model_module_version": "1.2.0",
          "state": {
            "_view_name": "LayoutView",
            "grid_template_rows": null,
            "right": null,
            "justify_content": null,
            "_view_module": "@jupyter-widgets/base",
            "overflow": null,
            "_model_module_version": "1.2.0",
            "_view_count": null,
            "flex_flow": null,
            "width": "auto",
            "min_width": null,
            "border": null,
            "align_items": null,
            "bottom": null,
            "_model_module": "@jupyter-widgets/base",
            "top": null,
            "grid_column": null,
            "overflow_y": null,
            "overflow_x": null,
            "grid_auto_flow": null,
            "grid_area": null,
            "grid_template_columns": null,
            "flex": null,
            "_model_name": "LayoutModel",
            "justify_items": null,
            "grid_row": null,
            "max_height": null,
            "align_content": null,
            "visibility": null,
            "align_self": null,
            "height": null,
            "min_height": null,
            "padding": null,
            "grid_auto_rows": null,
            "grid_gap": null,
            "max_width": null,
            "order": null,
            "_view_module_version": "1.2.0",
            "grid_template_areas": null,
            "object_position": null,
            "object_fit": null,
            "grid_auto_columns": null,
            "margin": null,
            "display": null,
            "left": null
          }
        },
        "5abf123634454c0f9ca0f68520c2a4f0": {
          "model_module": "@jupyter-widgets/controls",
          "model_name": "DescriptionStyleModel",
          "model_module_version": "1.5.0",
          "state": {
            "_view_name": "StyleView",
            "_model_name": "DescriptionStyleModel",
            "description_width": "",
            "_view_module": "@jupyter-widgets/base",
            "_model_module_version": "1.5.0",
            "_view_count": null,
            "_view_module_version": "1.2.0",
            "_model_module": "@jupyter-widgets/controls"
          }
        },
        "8a2ec781ce1748b9802bbb295d3032b5": {
          "model_module": "@jupyter-widgets/base",
          "model_name": "LayoutModel",
          "model_module_version": "1.2.0",
          "state": {
            "_view_name": "LayoutView",
            "grid_template_rows": null,
            "right": null,
            "justify_content": null,
            "_view_module": "@jupyter-widgets/base",
            "overflow": null,
            "_model_module_version": "1.2.0",
            "_view_count": null,
            "flex_flow": null,
            "width": "auto",
            "min_width": null,
            "border": null,
            "align_items": null,
            "bottom": null,
            "_model_module": "@jupyter-widgets/base",
            "top": null,
            "grid_column": null,
            "overflow_y": null,
            "overflow_x": null,
            "grid_auto_flow": null,
            "grid_area": null,
            "grid_template_columns": null,
            "flex": null,
            "_model_name": "LayoutModel",
            "justify_items": null,
            "grid_row": null,
            "max_height": null,
            "align_content": null,
            "visibility": "hidden",
            "align_self": null,
            "height": null,
            "min_height": null,
            "padding": null,
            "grid_auto_rows": null,
            "grid_gap": null,
            "max_width": null,
            "order": null,
            "_view_module_version": "1.2.0",
            "grid_template_areas": null,
            "object_position": null,
            "object_fit": null,
            "grid_auto_columns": null,
            "margin": null,
            "display": null,
            "left": null
          }
        },
        "677e9a1bd76d452ca140f412bb9f0c3f": {
          "model_module": "@jupyter-widgets/controls",
          "model_name": "DescriptionStyleModel",
          "model_module_version": "1.5.0",
          "state": {
            "_view_name": "StyleView",
            "_model_name": "DescriptionStyleModel",
            "description_width": "",
            "_view_module": "@jupyter-widgets/base",
            "_model_module_version": "1.5.0",
            "_view_count": null,
            "_view_module_version": "1.2.0",
            "_model_module": "@jupyter-widgets/controls"
          }
        },
        "66a4bb7da2fb473398c5e2d9acb5eebb": {
          "model_module": "@jupyter-widgets/controls",
          "model_name": "DescriptionStyleModel",
          "model_module_version": "1.5.0",
          "state": {
            "_view_name": "StyleView",
            "_model_name": "DescriptionStyleModel",
            "description_width": "",
            "_view_module": "@jupyter-widgets/base",
            "_model_module_version": "1.5.0",
            "_view_count": null,
            "_view_module_version": "1.2.0",
            "_model_module": "@jupyter-widgets/controls"
          }
        },
        "ddf59124b5594376928412de3494238c": {
          "model_module": "@jupyter-widgets/base",
          "model_name": "LayoutModel",
          "model_module_version": "1.2.0",
          "state": {
            "_view_name": "LayoutView",
            "grid_template_rows": null,
            "right": null,
            "justify_content": null,
            "_view_module": "@jupyter-widgets/base",
            "overflow": null,
            "_model_module_version": "1.2.0",
            "_view_count": null,
            "flex_flow": null,
            "width": "auto",
            "min_width": null,
            "border": null,
            "align_items": null,
            "bottom": null,
            "_model_module": "@jupyter-widgets/base",
            "top": null,
            "grid_column": null,
            "overflow_y": null,
            "overflow_x": null,
            "grid_auto_flow": null,
            "grid_area": null,
            "grid_template_columns": null,
            "flex": null,
            "_model_name": "LayoutModel",
            "justify_items": null,
            "grid_row": null,
            "max_height": null,
            "align_content": null,
            "visibility": "hidden",
            "align_self": null,
            "height": null,
            "min_height": null,
            "padding": null,
            "grid_auto_rows": null,
            "grid_gap": null,
            "max_width": null,
            "order": null,
            "_view_module_version": "1.2.0",
            "grid_template_areas": null,
            "object_position": null,
            "object_fit": null,
            "grid_auto_columns": null,
            "margin": null,
            "display": null,
            "left": null
          }
        },
        "fa448fab82f04c2d8c4a929f6b70d05b": {
          "model_module": "@jupyter-widgets/controls",
          "model_name": "BoxModel",
          "model_module_version": "1.5.0",
          "state": {
            "_view_name": "BoxView",
            "_dom_classes": [],
            "_model_name": "BoxModel",
            "_view_module": "@jupyter-widgets/controls",
            "_model_module_version": "1.5.0",
            "_view_count": null,
            "_view_module_version": "1.5.0",
            "box_style": "",
            "layout": "IPY_MODEL_8235537a09804aba99bf784710701587",
            "_model_module": "@jupyter-widgets/controls",
            "children": [
              "IPY_MODEL_a1d213d6ea8144ceb24698fc257c429c",
              "IPY_MODEL_ff26ef09f14c4bd3bafe1d361490b33c"
            ]
          }
        },
        "8235537a09804aba99bf784710701587": {
          "model_module": "@jupyter-widgets/base",
          "model_name": "LayoutModel",
          "model_module_version": "1.2.0",
          "state": {
            "_view_name": "LayoutView",
            "grid_template_rows": null,
            "right": null,
            "justify_content": null,
            "_view_module": "@jupyter-widgets/base",
            "overflow": null,
            "_model_module_version": "1.2.0",
            "_view_count": null,
            "flex_flow": null,
            "width": null,
            "min_width": null,
            "border": null,
            "align_items": "stretch",
            "bottom": null,
            "_model_module": "@jupyter-widgets/base",
            "top": null,
            "grid_column": null,
            "overflow_y": null,
            "overflow_x": null,
            "grid_auto_flow": null,
            "grid_area": null,
            "grid_template_columns": null,
            "flex": null,
            "_model_name": "LayoutModel",
            "justify_items": null,
            "grid_row": null,
            "max_height": null,
            "align_content": null,
            "visibility": null,
            "align_self": null,
            "height": null,
            "min_height": null,
            "padding": null,
            "grid_auto_rows": null,
            "grid_gap": null,
            "max_width": null,
            "order": null,
            "_view_module_version": "1.2.0",
            "grid_template_areas": null,
            "object_position": null,
            "object_fit": null,
            "grid_auto_columns": null,
            "margin": null,
            "display": "flex",
            "left": null
          }
        },
        "a1d213d6ea8144ceb24698fc257c429c": {
          "model_module": "@jupyter-widgets/controls",
          "model_name": "VBoxModel",
          "model_module_version": "1.5.0",
          "state": {
            "_view_name": "VBoxView",
            "_dom_classes": [],
            "_model_name": "VBoxModel",
            "_view_module": "@jupyter-widgets/controls",
            "_model_module_version": "1.5.0",
            "_view_count": null,
            "_view_module_version": "1.5.0",
            "box_style": "",
            "layout": "IPY_MODEL_89b7c707786f4b55916328b214a81241",
            "_model_module": "@jupyter-widgets/controls",
            "children": [
              "IPY_MODEL_e6722f5ee71c484685dddcba4999b310",
              "IPY_MODEL_d5c57e547eb647d28dfed0cbe2d02d75"
            ]
          }
        },
        "ff26ef09f14c4bd3bafe1d361490b33c": {
          "model_module": "@jupyter-widgets/controls",
          "model_name": "VBoxModel",
          "model_module_version": "1.5.0",
          "state": {
            "_view_name": "VBoxView",
            "_dom_classes": [],
            "_model_name": "VBoxModel",
            "_view_module": "@jupyter-widgets/controls",
            "_model_module_version": "1.5.0",
            "_view_count": null,
            "_view_module_version": "1.5.0",
            "box_style": "",
            "layout": "IPY_MODEL_24efe8dd4d5349f6850411d30e94be2b",
            "_model_module": "@jupyter-widgets/controls",
            "children": [
              "IPY_MODEL_c31559ad952c449e98cbb209be914af4",
              "IPY_MODEL_0a2ff01fe2744d43b650255a60a67549"
            ]
          }
        },
        "89b7c707786f4b55916328b214a81241": {
          "model_module": "@jupyter-widgets/base",
          "model_name": "LayoutModel",
          "model_module_version": "1.2.0",
          "state": {
            "_view_name": "LayoutView",
            "grid_template_rows": null,
            "right": null,
            "justify_content": null,
            "_view_module": "@jupyter-widgets/base",
            "overflow": null,
            "_model_module_version": "1.2.0",
            "_view_count": null,
            "flex_flow": null,
            "width": null,
            "min_width": null,
            "border": null,
            "align_items": null,
            "bottom": null,
            "_model_module": "@jupyter-widgets/base",
            "top": null,
            "grid_column": null,
            "overflow_y": null,
            "overflow_x": null,
            "grid_auto_flow": null,
            "grid_area": null,
            "grid_template_columns": null,
            "flex": null,
            "_model_name": "LayoutModel",
            "justify_items": null,
            "grid_row": null,
            "max_height": null,
            "align_content": null,
            "visibility": null,
            "align_self": null,
            "height": null,
            "min_height": null,
            "padding": null,
            "grid_auto_rows": null,
            "grid_gap": null,
            "max_width": null,
            "order": null,
            "_view_module_version": "1.2.0",
            "grid_template_areas": null,
            "object_position": null,
            "object_fit": null,
            "grid_auto_columns": null,
            "margin": null,
            "display": null,
            "left": null
          }
        },
        "e6722f5ee71c484685dddcba4999b310": {
          "model_module": "@jupyter-widgets/controls",
          "model_name": "CheckboxModel",
          "model_module_version": "1.5.0",
          "state": {
            "_view_name": "CheckboxView",
            "style": "IPY_MODEL_30dd45bff4464b05b3defe2d24b647ed",
            "_dom_classes": [],
            "description": "Tipp 1",
            "_model_name": "CheckboxModel",
            "_view_module": "@jupyter-widgets/controls",
            "_model_module_version": "1.5.0",
            "value": false,
            "_view_count": null,
            "disabled": false,
            "_view_module_version": "1.5.0",
            "indent": true,
            "description_tooltip": null,
            "_model_module": "@jupyter-widgets/controls",
            "layout": "IPY_MODEL_be0f466d4ff84c5aa9e0156c701b7006"
          }
        },
        "d5c57e547eb647d28dfed0cbe2d02d75": {
          "model_module": "@jupyter-widgets/controls",
          "model_name": "TextareaModel",
          "model_module_version": "1.5.0",
          "state": {
            "_view_name": "TextareaView",
            "style": "IPY_MODEL_690b8f3638a240dd9d53743ba77d6fe3",
            "rows": null,
            "_dom_classes": [],
            "description": "",
            "_model_name": "TextareaModel",
            "placeholder": "​",
            "_view_module": "@jupyter-widgets/controls",
            "_model_module_version": "1.5.0",
            "value": "Hier steht der erste Tipp",
            "_view_count": null,
            "disabled": false,
            "_view_module_version": "1.5.0",
            "continuous_update": true,
            "description_tooltip": null,
            "_model_module": "@jupyter-widgets/controls",
            "layout": "IPY_MODEL_dfa7fe3b451c4b83bdf82ac6c0c0b7e2"
          }
        },
        "24efe8dd4d5349f6850411d30e94be2b": {
          "model_module": "@jupyter-widgets/base",
          "model_name": "LayoutModel",
          "model_module_version": "1.2.0",
          "state": {
            "_view_name": "LayoutView",
            "grid_template_rows": null,
            "right": null,
            "justify_content": null,
            "_view_module": "@jupyter-widgets/base",
            "overflow": null,
            "_model_module_version": "1.2.0",
            "_view_count": null,
            "flex_flow": null,
            "width": null,
            "min_width": null,
            "border": null,
            "align_items": null,
            "bottom": null,
            "_model_module": "@jupyter-widgets/base",
            "top": null,
            "grid_column": null,
            "overflow_y": null,
            "overflow_x": null,
            "grid_auto_flow": null,
            "grid_area": null,
            "grid_template_columns": null,
            "flex": null,
            "_model_name": "LayoutModel",
            "justify_items": null,
            "grid_row": null,
            "max_height": null,
            "align_content": null,
            "visibility": null,
            "align_self": null,
            "height": null,
            "min_height": null,
            "padding": null,
            "grid_auto_rows": null,
            "grid_gap": null,
            "max_width": null,
            "order": null,
            "_view_module_version": "1.2.0",
            "grid_template_areas": null,
            "object_position": null,
            "object_fit": null,
            "grid_auto_columns": null,
            "margin": null,
            "display": null,
            "left": null
          }
        },
        "c31559ad952c449e98cbb209be914af4": {
          "model_module": "@jupyter-widgets/controls",
          "model_name": "CheckboxModel",
          "model_module_version": "1.5.0",
          "state": {
            "_view_name": "CheckboxView",
            "style": "IPY_MODEL_0e29767c628544a3b61264d14ad4488d",
            "_dom_classes": [],
            "description": "Tipp 2",
            "_model_name": "CheckboxModel",
            "_view_module": "@jupyter-widgets/controls",
            "_model_module_version": "1.5.0",
            "value": true,
            "_view_count": null,
            "disabled": false,
            "_view_module_version": "1.5.0",
            "indent": true,
            "description_tooltip": null,
            "_model_module": "@jupyter-widgets/controls",
            "layout": "IPY_MODEL_be0f466d4ff84c5aa9e0156c701b7006"
          }
        },
        "0a2ff01fe2744d43b650255a60a67549": {
          "model_module": "@jupyter-widgets/controls",
          "model_name": "TextareaModel",
          "model_module_version": "1.5.0",
          "state": {
            "_view_name": "TextareaView",
            "style": "IPY_MODEL_e7a79bf12b3a42e292783728b2796bae",
            "rows": null,
            "_dom_classes": [],
            "description": "",
            "_model_name": "TextareaModel",
            "placeholder": "​",
            "_view_module": "@jupyter-widgets/controls",
            "_model_module_version": "1.5.0",
            "value": "Hier steht der zweite Tipp",
            "_view_count": null,
            "disabled": false,
            "_view_module_version": "1.5.0",
            "continuous_update": true,
            "description_tooltip": null,
            "_model_module": "@jupyter-widgets/controls",
            "layout": "IPY_MODEL_5f96963e4e564a9691d27c33459f86d5"
          }
        },
        "30dd45bff4464b05b3defe2d24b647ed": {
          "model_module": "@jupyter-widgets/controls",
          "model_name": "DescriptionStyleModel",
          "model_module_version": "1.5.0",
          "state": {
            "_view_name": "StyleView",
            "_model_name": "DescriptionStyleModel",
            "description_width": "",
            "_view_module": "@jupyter-widgets/base",
            "_model_module_version": "1.5.0",
            "_view_count": null,
            "_view_module_version": "1.2.0",
            "_model_module": "@jupyter-widgets/controls"
          }
        },
        "be0f466d4ff84c5aa9e0156c701b7006": {
          "model_module": "@jupyter-widgets/base",
          "model_name": "LayoutModel",
          "model_module_version": "1.2.0",
          "state": {
            "_view_name": "LayoutView",
            "grid_template_rows": null,
            "right": null,
            "justify_content": null,
            "_view_module": "@jupyter-widgets/base",
            "overflow": null,
            "_model_module_version": "1.2.0",
            "_view_count": null,
            "flex_flow": null,
            "width": "auto",
            "min_width": null,
            "border": null,
            "align_items": null,
            "bottom": null,
            "_model_module": "@jupyter-widgets/base",
            "top": null,
            "grid_column": null,
            "overflow_y": null,
            "overflow_x": null,
            "grid_auto_flow": null,
            "grid_area": null,
            "grid_template_columns": null,
            "flex": null,
            "_model_name": "LayoutModel",
            "justify_items": null,
            "grid_row": null,
            "max_height": null,
            "align_content": null,
            "visibility": null,
            "align_self": null,
            "height": null,
            "min_height": null,
            "padding": null,
            "grid_auto_rows": null,
            "grid_gap": null,
            "max_width": null,
            "order": null,
            "_view_module_version": "1.2.0",
            "grid_template_areas": null,
            "object_position": null,
            "object_fit": null,
            "grid_auto_columns": null,
            "margin": null,
            "display": null,
            "left": null
          }
        },
        "690b8f3638a240dd9d53743ba77d6fe3": {
          "model_module": "@jupyter-widgets/controls",
          "model_name": "DescriptionStyleModel",
          "model_module_version": "1.5.0",
          "state": {
            "_view_name": "StyleView",
            "_model_name": "DescriptionStyleModel",
            "description_width": "",
            "_view_module": "@jupyter-widgets/base",
            "_model_module_version": "1.5.0",
            "_view_count": null,
            "_view_module_version": "1.2.0",
            "_model_module": "@jupyter-widgets/controls"
          }
        },
        "178e56b6eb644976bd24b2f089a6f4a0": {
          "model_module": "@jupyter-widgets/base",
          "model_name": "LayoutModel",
          "model_module_version": "1.2.0",
          "state": {
            "_view_name": "LayoutView",
            "grid_template_rows": null,
            "right": null,
            "justify_content": null,
            "_view_module": "@jupyter-widgets/base",
            "overflow": null,
            "_model_module_version": "1.2.0",
            "_view_count": null,
            "flex_flow": null,
            "width": "auto",
            "min_width": null,
            "border": null,
            "align_items": null,
            "bottom": null,
            "_model_module": "@jupyter-widgets/base",
            "top": null,
            "grid_column": null,
            "overflow_y": null,
            "overflow_x": null,
            "grid_auto_flow": null,
            "grid_area": null,
            "grid_template_columns": null,
            "flex": null,
            "_model_name": "LayoutModel",
            "justify_items": null,
            "grid_row": null,
            "max_height": null,
            "align_content": null,
            "visibility": "hidden",
            "align_self": null,
            "height": null,
            "min_height": null,
            "padding": null,
            "grid_auto_rows": null,
            "grid_gap": null,
            "max_width": null,
            "order": null,
            "_view_module_version": "1.2.0",
            "grid_template_areas": null,
            "object_position": null,
            "object_fit": null,
            "grid_auto_columns": null,
            "margin": null,
            "display": null,
            "left": null
          }
        },
        "0e29767c628544a3b61264d14ad4488d": {
          "model_module": "@jupyter-widgets/controls",
          "model_name": "DescriptionStyleModel",
          "model_module_version": "1.5.0",
          "state": {
            "_view_name": "StyleView",
            "_model_name": "DescriptionStyleModel",
            "description_width": "",
            "_view_module": "@jupyter-widgets/base",
            "_model_module_version": "1.5.0",
            "_view_count": null,
            "_view_module_version": "1.2.0",
            "_model_module": "@jupyter-widgets/controls"
          }
        },
        "e7a79bf12b3a42e292783728b2796bae": {
          "model_module": "@jupyter-widgets/controls",
          "model_name": "DescriptionStyleModel",
          "model_module_version": "1.5.0",
          "state": {
            "_view_name": "StyleView",
            "_model_name": "DescriptionStyleModel",
            "description_width": "",
            "_view_module": "@jupyter-widgets/base",
            "_model_module_version": "1.5.0",
            "_view_count": null,
            "_view_module_version": "1.2.0",
            "_model_module": "@jupyter-widgets/controls"
          }
        },
        "f30fd8dabe3c436ab164497a3582641e": {
          "model_module": "@jupyter-widgets/base",
          "model_name": "LayoutModel",
          "model_module_version": "1.2.0",
          "state": {
            "_view_name": "LayoutView",
            "grid_template_rows": null,
            "right": null,
            "justify_content": null,
            "_view_module": "@jupyter-widgets/base",
            "overflow": null,
            "_model_module_version": "1.2.0",
            "_view_count": null,
            "flex_flow": null,
            "width": "auto",
            "min_width": null,
            "border": null,
            "align_items": null,
            "bottom": null,
            "_model_module": "@jupyter-widgets/base",
            "top": null,
            "grid_column": null,
            "overflow_y": null,
            "overflow_x": null,
            "grid_auto_flow": null,
            "grid_area": null,
            "grid_template_columns": null,
            "flex": null,
            "_model_name": "LayoutModel",
            "justify_items": null,
            "grid_row": null,
            "max_height": null,
            "align_content": null,
            "visibility": "hidden",
            "align_self": null,
            "height": null,
            "min_height": null,
            "padding": null,
            "grid_auto_rows": null,
            "grid_gap": null,
            "max_width": null,
            "order": null,
            "_view_module_version": "1.2.0",
            "grid_template_areas": null,
            "object_position": null,
            "object_fit": null,
            "grid_auto_columns": null,
            "margin": null,
            "display": null,
            "left": null
          }
        },
        "a7650e15ca224c2aa37172343376c243": {
          "model_module": "@jupyter-widgets/base",
          "model_name": "LayoutModel",
          "model_module_version": "1.2.0",
          "state": {
            "_view_name": "LayoutView",
            "grid_template_rows": null,
            "right": null,
            "justify_content": null,
            "_view_module": "@jupyter-widgets/base",
            "overflow": null,
            "_model_module_version": "1.2.0",
            "_view_count": null,
            "flex_flow": null,
            "width": "auto",
            "min_width": null,
            "border": null,
            "align_items": null,
            "bottom": null,
            "_model_module": "@jupyter-widgets/base",
            "top": null,
            "grid_column": null,
            "overflow_y": null,
            "overflow_x": null,
            "grid_auto_flow": null,
            "grid_area": null,
            "grid_template_columns": null,
            "flex": null,
            "_model_name": "LayoutModel",
            "justify_items": null,
            "grid_row": null,
            "max_height": null,
            "align_content": null,
            "visibility": "visible",
            "align_self": null,
            "height": null,
            "min_height": null,
            "padding": null,
            "grid_auto_rows": null,
            "grid_gap": null,
            "max_width": null,
            "order": null,
            "_view_module_version": "1.2.0",
            "grid_template_areas": null,
            "object_position": null,
            "object_fit": null,
            "grid_auto_columns": null,
            "margin": null,
            "display": null,
            "left": null
          }
        },
        "dfa7fe3b451c4b83bdf82ac6c0c0b7e2": {
          "model_module": "@jupyter-widgets/base",
          "model_name": "LayoutModel",
          "model_module_version": "1.2.0",
          "state": {
            "_view_name": "LayoutView",
            "grid_template_rows": null,
            "right": null,
            "justify_content": null,
            "_view_module": "@jupyter-widgets/base",
            "overflow": null,
            "_model_module_version": "1.2.0",
            "_view_count": null,
            "flex_flow": null,
            "width": "auto",
            "min_width": null,
            "border": null,
            "align_items": null,
            "bottom": null,
            "_model_module": "@jupyter-widgets/base",
            "top": null,
            "grid_column": null,
            "overflow_y": null,
            "overflow_x": null,
            "grid_auto_flow": null,
            "grid_area": null,
            "grid_template_columns": null,
            "flex": null,
            "_model_name": "LayoutModel",
            "justify_items": null,
            "grid_row": null,
            "max_height": null,
            "align_content": null,
            "visibility": "hidden",
            "align_self": null,
            "height": null,
            "min_height": null,
            "padding": null,
            "grid_auto_rows": null,
            "grid_gap": null,
            "max_width": null,
            "order": null,
            "_view_module_version": "1.2.0",
            "grid_template_areas": null,
            "object_position": null,
            "object_fit": null,
            "grid_auto_columns": null,
            "margin": null,
            "display": null,
            "left": null
          }
        },
        "5f96963e4e564a9691d27c33459f86d5": {
          "model_module": "@jupyter-widgets/base",
          "model_name": "LayoutModel",
          "model_module_version": "1.2.0",
          "state": {
            "_view_name": "LayoutView",
            "grid_template_rows": null,
            "right": null,
            "justify_content": null,
            "_view_module": "@jupyter-widgets/base",
            "overflow": null,
            "_model_module_version": "1.2.0",
            "_view_count": null,
            "flex_flow": null,
            "width": "auto",
            "min_width": null,
            "border": null,
            "align_items": null,
            "bottom": null,
            "_model_module": "@jupyter-widgets/base",
            "top": null,
            "grid_column": null,
            "overflow_y": null,
            "overflow_x": null,
            "grid_auto_flow": null,
            "grid_area": null,
            "grid_template_columns": null,
            "flex": null,
            "_model_name": "LayoutModel",
            "justify_items": null,
            "grid_row": null,
            "max_height": null,
            "align_content": null,
            "visibility": "visible",
            "align_self": null,
            "height": null,
            "min_height": null,
            "padding": null,
            "grid_auto_rows": null,
            "grid_gap": null,
            "max_width": null,
            "order": null,
            "_view_module_version": "1.2.0",
            "grid_template_areas": null,
            "object_position": null,
            "object_fit": null,
            "grid_auto_columns": null,
            "margin": null,
            "display": null,
            "left": null
          }
        },
        "eabcbaa6f1594f64907d4036b463bc2b": {
          "model_module": "@jupyter-widgets/controls",
          "model_name": "ButtonModel",
          "model_module_version": "1.5.0",
          "state": {
            "_view_name": "ButtonView",
            "style": "IPY_MODEL_e843c63ec4604b3d9495c51b0eaf8d02",
            "_dom_classes": [],
            "description": "Starte",
            "_model_name": "ButtonModel",
            "button_style": "success",
            "_view_module": "@jupyter-widgets/controls",
            "_model_module_version": "1.5.0",
            "tooltip": "Hier kannst du deine Lösung testen!",
            "_view_count": null,
            "disabled": false,
            "_view_module_version": "1.5.0",
            "layout": "IPY_MODEL_b6b1c3e5ecaf4bee8af5f2ac7cb5c0bd",
            "_model_module": "@jupyter-widgets/controls",
            "icon": "check"
          }
        },
        "e843c63ec4604b3d9495c51b0eaf8d02": {
          "model_module": "@jupyter-widgets/controls",
          "model_name": "ButtonStyleModel",
          "model_module_version": "1.5.0",
          "state": {
            "_view_name": "StyleView",
            "_model_name": "ButtonStyleModel",
            "_view_module": "@jupyter-widgets/base",
            "_model_module_version": "1.5.0",
            "_view_count": null,
            "button_color": null,
            "font_weight": "",
            "_view_module_version": "1.2.0",
            "_model_module": "@jupyter-widgets/controls"
          }
        },
        "b6b1c3e5ecaf4bee8af5f2ac7cb5c0bd": {
          "model_module": "@jupyter-widgets/base",
          "model_name": "LayoutModel",
          "model_module_version": "1.2.0",
          "state": {
            "_view_name": "LayoutView",
            "grid_template_rows": null,
            "right": null,
            "justify_content": null,
            "_view_module": "@jupyter-widgets/base",
            "overflow": null,
            "_model_module_version": "1.2.0",
            "_view_count": null,
            "flex_flow": null,
            "width": null,
            "min_width": null,
            "border": null,
            "align_items": null,
            "bottom": null,
            "_model_module": "@jupyter-widgets/base",
            "top": null,
            "grid_column": null,
            "overflow_y": null,
            "overflow_x": null,
            "grid_auto_flow": null,
            "grid_area": null,
            "grid_template_columns": null,
            "flex": null,
            "_model_name": "LayoutModel",
            "justify_items": null,
            "grid_row": null,
            "max_height": null,
            "align_content": null,
            "visibility": null,
            "align_self": null,
            "height": null,
            "min_height": null,
            "padding": null,
            "grid_auto_rows": null,
            "grid_gap": null,
            "max_width": null,
            "order": null,
            "_view_module_version": "1.2.0",
            "grid_template_areas": null,
            "object_position": null,
            "object_fit": null,
            "grid_auto_columns": null,
            "margin": null,
            "display": null,
            "left": null
          }
        }
      }
    }
  },
  "cells": [
    {
      "cell_type": "markdown",
      "metadata": {
        "id": "view-in-github",
        "colab_type": "text"
      },
      "source": [
        "<a href=\"https://colab.research.google.com/github/ntj/public-docs/blob/main/Kopie_von_Zahlen_mit_dem_MNIST_Dataset_klassifizieren.ipynb\" target=\"_parent\"><img src=\"https://colab.research.google.com/assets/colab-badge.svg\" alt=\"Open In Colab\"/></a>"
      ]
    },
    {
      "cell_type": "markdown",
      "metadata": {
        "id": "Ev5WUFgA5gJb"
      },
      "source": [
        "#Hallo\n",
        "\n",
        "In diesem Dokument wollen wir uns mit dem Erstellen und Trainieren eines einfachen künstlichen neuronalen Netzes beschäftigen. Wir benutzen dazu das MNIST Dataset für handschriftliche Ziffern. \n",
        " "
      ]
    },
    {
      "cell_type": "markdown",
      "metadata": {
        "id": "bPngnz5p6A8j"
      },
      "source": [
        "## Funktionsweise\n",
        "\n",
        "Als erstes klären wir, wie du mit diesem Notebook arbeitest. Das Notebook besteht aus Zellen, die unterschiedliche Typen haben. Einerseits wären das die **Textzellen** (das sind die, wo der ganze Erklärtext drin steht, wie hier zum Beispiel) und **Codezellen**. Die Codezellen sind der spannende Teil. Programmiert wird in Python, du solltest dich dafür am besten schon etwas auskennen.\n",
        "\n",
        "Um Code in den einzelnen Codezellen **auszuführen**, klicke in die Zelle und anschließend auf auf den kleinen Pfeil links von der Zelle. Alternativ kannst auch die Tastenkombination ```STRG + Enter``` nutzen. Probiere es gleich mal aus, indem du die Bibliotheken importierst, die wir für unser Projekt benötigen. Dazu musst du nur die nächste Codezelle ausführen.\n",
        "\n",
        "`HINWEIS:` Beim ersten Ausführen kann eine Warnmeldung von Google Colab erscheinen, die ist nicht schlimm.\n",
        "\n",
        "In der Codezelle sollte anschließend links eine kleine `[1]` erscheinen. Das heißt, dein Code wurde ausgeführt. Die Zahl steht dafür in welcher Reihenfolge die einzelnen Zellen ausgeführt wurden. "
      ]
    },
    {
      "cell_type": "code",
      "metadata": {
        "id": "Ra9XatIm5Y7X"
      },
      "source": [
        "#das sind die Bibliotheken die wir für das Erstellen und Trainieren benötigen\n",
        "import tensorflow as tf\n",
        "from tensorflow import keras\n",
        "import numpy\n",
        "\n",
        "#die Bibliotheken hier sind nur für die Visualisierung und Interaktivität des Notebooks nötig\n",
        "import matplotlib as mplt\n",
        "import matplotlib.pyplot as plt\n",
        "import ipywidgets as widgets\n",
        "from ipywidgets import Button, Layout, Checkbox, Box, Textarea, Text, VBox, HTML\n",
        "from google.colab import output"
      ],
      "execution_count": null,
      "outputs": []
    },
    {
      "cell_type": "markdown",
      "metadata": {
        "id": "RCvyHmr0c2in"
      },
      "source": [
        "Für unser Projekt benutzen wie die Bibliotheken **Tensorflow** und das darin enthaltene **Keras**. Keras ist eine der führende (Python-) Bibliotheken um *Machine Learning* Projekte umzusetzen und wird von Wissenschaftlern und Ingenieuren in der ganzen Welt eingesetzt! Trotz dessen ist die Verwendung dieser *relativ* einfach, sodass wir einen Einblick in die Welt der Data Scientists wagen können! Aber ich schweife ab, wir sind ja noch bei der Bedienung.  "
      ]
    },
    {
      "cell_type": "markdown",
      "metadata": {
        "id": "GHSCO4e8719U"
      },
      "source": [
        "\n",
        "\n",
        "Manchmal wirst du Codezellen sehen, in denen der Code versteckt ist. Dann liegt das daran, dass das Zellen sind die interaktiven Content für diese Seite generieren und nicht Teil des Programmierprojekts sind. Um solche Zellen auszuführen, klicke auch hier auf den kleinen Pfeil."
      ]
    },
    {
      "cell_type": "code",
      "metadata": {
        "id": "irygEtGk9zO4",
        "colab": {
          "base_uri": "https://localhost:8080/"
        },
        "outputId": "6d000c17-0c5c-4a7f-c9ed-544081aa1618"
      },
      "source": [
        "#@title\n",
        "print('Hey, hey, hey. Super!')"
      ],
      "execution_count": null,
      "outputs": [
        {
          "output_type": "stream",
          "text": [
            "Hey, hey, hey. Super!\n"
          ],
          "name": "stdout"
        }
      ]
    },
    {
      "cell_type": "markdown",
      "metadata": {
        "id": "4ABMQQ0a97Bb"
      },
      "source": [
        "Diese Zellen immer einfach ausführen, damit die Tipps und Hinweise dahinter auch funktionieren.\n",
        "\n",
        "Ansonsten bleibt mir nicht mehr zu sagen, lass uns anfangen!"
      ]
    },
    {
      "cell_type": "markdown",
      "metadata": {
        "id": "b9SVKQxF8bbj"
      },
      "source": [
        "# 1. Daten sammeln\n",
        "\n",
        "Bevor wir überhaupt darüber nachdenken können, ein Machine Learning Modell zu erstellen, brauchen wir erst einmal Daten. Der Prozess des Datensammelns ist mindestens so komplex wie das Arbeiten mit diesen. Zum Glück können wir auf den standardisierten Datensatz MNIST zurückgreifen! Dieser wird in Keras bereits mitgeliefert. Laden wir uns erst einmal die Daten herunter."
      ]
    },
    {
      "cell_type": "code",
      "metadata": {
        "id": "8E_vf0-88fI8",
        "colab": {
          "base_uri": "https://localhost:8080/"
        },
        "outputId": "596b049a-20ac-4e91-ab47-f3528fbc2239"
      },
      "source": [
        "mnist = tf.keras.datasets.mnist\n",
        "(trainZiffernBilder,trainZiffernLabels),(testZiffernBilder,testZiffernLabels) = mnist.load_data()"
      ],
      "execution_count": null,
      "outputs": [
        {
          "output_type": "stream",
          "text": [
            "Downloading data from https://storage.googleapis.com/tensorflow/tf-keras-datasets/mnist.npz\n",
            "11493376/11490434 [==============================] - 0s 0us/step\n"
          ],
          "name": "stdout"
        }
      ]
    },
    {
      "cell_type": "markdown",
      "metadata": {
        "id": "qc-9nKOU8cZk"
      },
      "source": [
        "Ok, anscheinend gibt die Funktion `mnist.load_data()`den Datensatz zurück, doch was bedeutet der Ausdruck davor? Schauen wir uns dafür einmal die Daten genauer an."
      ]
    },
    {
      "cell_type": "code",
      "metadata": {
        "id": "3rKOBQjb8mue",
        "colab": {
          "base_uri": "https://localhost:8080/"
        },
        "outputId": "acacee65-339a-4156-b542-8b65cff7e2f9"
      },
      "source": [
        "print(trainZiffernBilder[0])"
      ],
      "execution_count": null,
      "outputs": [
        {
          "output_type": "stream",
          "text": [
            "[[  0   0   0   0   0   0   0   0   0   0   0   0   0   0   0   0   0   0\n",
            "    0   0   0   0   0   0   0   0   0   0]\n",
            " [  0   0   0   0   0   0   0   0   0   0   0   0   0   0   0   0   0   0\n",
            "    0   0   0   0   0   0   0   0   0   0]\n",
            " [  0   0   0   0   0   0   0   0   0   0   0   0   0   0   0   0   0   0\n",
            "    0   0   0   0   0   0   0   0   0   0]\n",
            " [  0   0   0   0   0   0   0   0   0   0   0   0   0   0   0   0   0   0\n",
            "    0   0   0   0   0   0   0   0   0   0]\n",
            " [  0   0   0   0   0   0   0   0   0   0   0   0   0   0   0   0   0   0\n",
            "    0   0   0   0   0   0   0   0   0   0]\n",
            " [  0   0   0   0   0   0   0   0   0   0   0   0   3  18  18  18 126 136\n",
            "  175  26 166 255 247 127   0   0   0   0]\n",
            " [  0   0   0   0   0   0   0   0  30  36  94 154 170 253 253 253 253 253\n",
            "  225 172 253 242 195  64   0   0   0   0]\n",
            " [  0   0   0   0   0   0   0  49 238 253 253 253 253 253 253 253 253 251\n",
            "   93  82  82  56  39   0   0   0   0   0]\n",
            " [  0   0   0   0   0   0   0  18 219 253 253 253 253 253 198 182 247 241\n",
            "    0   0   0   0   0   0   0   0   0   0]\n",
            " [  0   0   0   0   0   0   0   0  80 156 107 253 253 205  11   0  43 154\n",
            "    0   0   0   0   0   0   0   0   0   0]\n",
            " [  0   0   0   0   0   0   0   0   0  14   1 154 253  90   0   0   0   0\n",
            "    0   0   0   0   0   0   0   0   0   0]\n",
            " [  0   0   0   0   0   0   0   0   0   0   0 139 253 190   2   0   0   0\n",
            "    0   0   0   0   0   0   0   0   0   0]\n",
            " [  0   0   0   0   0   0   0   0   0   0   0  11 190 253  70   0   0   0\n",
            "    0   0   0   0   0   0   0   0   0   0]\n",
            " [  0   0   0   0   0   0   0   0   0   0   0   0  35 241 225 160 108   1\n",
            "    0   0   0   0   0   0   0   0   0   0]\n",
            " [  0   0   0   0   0   0   0   0   0   0   0   0   0  81 240 253 253 119\n",
            "   25   0   0   0   0   0   0   0   0   0]\n",
            " [  0   0   0   0   0   0   0   0   0   0   0   0   0   0  45 186 253 253\n",
            "  150  27   0   0   0   0   0   0   0   0]\n",
            " [  0   0   0   0   0   0   0   0   0   0   0   0   0   0   0  16  93 252\n",
            "  253 187   0   0   0   0   0   0   0   0]\n",
            " [  0   0   0   0   0   0   0   0   0   0   0   0   0   0   0   0   0 249\n",
            "  253 249  64   0   0   0   0   0   0   0]\n",
            " [  0   0   0   0   0   0   0   0   0   0   0   0   0   0  46 130 183 253\n",
            "  253 207   2   0   0   0   0   0   0   0]\n",
            " [  0   0   0   0   0   0   0   0   0   0   0   0  39 148 229 253 253 253\n",
            "  250 182   0   0   0   0   0   0   0   0]\n",
            " [  0   0   0   0   0   0   0   0   0   0  24 114 221 253 253 253 253 201\n",
            "   78   0   0   0   0   0   0   0   0   0]\n",
            " [  0   0   0   0   0   0   0   0  23  66 213 253 253 253 253 198  81   2\n",
            "    0   0   0   0   0   0   0   0   0   0]\n",
            " [  0   0   0   0   0   0  18 171 219 253 253 253 253 195  80   9   0   0\n",
            "    0   0   0   0   0   0   0   0   0   0]\n",
            " [  0   0   0   0  55 172 226 253 253 253 253 244 133  11   0   0   0   0\n",
            "    0   0   0   0   0   0   0   0   0   0]\n",
            " [  0   0   0   0 136 253 253 253 212 135 132  16   0   0   0   0   0   0\n",
            "    0   0   0   0   0   0   0   0   0   0]\n",
            " [  0   0   0   0   0   0   0   0   0   0   0   0   0   0   0   0   0   0\n",
            "    0   0   0   0   0   0   0   0   0   0]\n",
            " [  0   0   0   0   0   0   0   0   0   0   0   0   0   0   0   0   0   0\n",
            "    0   0   0   0   0   0   0   0   0   0]\n",
            " [  0   0   0   0   0   0   0   0   0   0   0   0   0   0   0   0   0   0\n",
            "    0   0   0   0   0   0   0   0   0   0]]\n"
          ],
          "name": "stdout"
        }
      ]
    },
    {
      "cell_type": "markdown",
      "metadata": {
        "id": "Tr3q1dQO8p0H"
      },
      "source": [
        "Huch! Da ist ja gar kein Bild, sondern nur eine ganze Menge Zahlen. Woran liegt das?\n",
        "\n",
        "Die Daten sind als ein **Tensor** gespeichert. Ein Tensor ist ein multidimensionales Array. Während man ein eindimensionales Array eine Liste nennen könnte und ein zweidimensionales Array eine Art Tabelle ist, kann ein Tensor sogar noch mehr Dimensionen haben. Die Inhalte unseres Tensors sind dreidimensional. Wenn man sich die Werte genauer anschaut, erkennt man, dass diese zwischen 0 und 255 liegen. Was könnte das bedeuten? \n",
        "\n",
        "Die zwei Dimensionen könnten die Länge und Breite unseres Bildes sein. Die Werte sind dann wahrscheinlich die Farbwerte jedes Pixels. Wandeln wir also die Einträge in Bilder um! Führe dazu den Code hier drunter aus. Falls es dich interessiert, kannst du ihn dir auch anschauen, aber für das Trainieren des Netzes ist er nicht wichtig. "
      ]
    },
    {
      "cell_type": "code",
      "metadata": {
        "id": "YnGtS59j8_VV",
        "colab": {
          "base_uri": "https://localhost:8080/",
          "height": 143
        },
        "outputId": "c3378015-882b-42bc-9a4b-782293a779bf"
      },
      "source": [
        "#@title\n",
        "f, ax = plt.subplots(1, 10, figsize=(20,20))\n",
        "for i in range (0,10):\n",
        "    sample = trainZiffernBilder[trainZiffernLabels == i][0]\n",
        "    ax[i].imshow(sample, cmap='Greys') #gray\n",
        "    ax[i].set_title('Label: {}'.format(i),fontsize=16)\n",
        "    ax[i].axis('off')"
      ],
      "execution_count": null,
      "outputs": [
        {
          "output_type": "display_data",
          "data": {
            "image/png": "[encoded data removed]",
            "text/plain": [
              "<Figure size 1440x1440 with 10 Axes>"
            ]
          },
          "metadata": {
            "tags": [],
            "needs_background": "light"
          }
        }
      ]
    },
    {
      "cell_type": "markdown",
      "metadata": {
        "id": "ubowW0uT-VWJ"
      },
      "source": [
        "Aha! Der MNIST Datensatz ist also voller Bilder von handgesschriebenen Zahlen. Insgesamt sind es 70.000 Bilder. Wenn wir noch etwas genauer schauen, können wir mehrere Eigenschaften ausmachen:\n",
        " 1. Zu jedem Bild gibt es ein **Label**, also eine Beschriftung. Das kennen wir bereits aus Teachable Machine, dort waren das die Klassennamen die wir vergeben haben. Diese Label sind sehr wichtig, damit können wir am Ende das Ergebnis unseres Netzes mit dem Label vergleichen, um festzustellen, ob die Maschine das Bild richtig erkannt hat.\n",
        " 2. Die Bilder sind 28 x 28 Pixel groß und in Graustufen codiert."
      ]
    },
    {
      "cell_type": "markdown",
      "metadata": {
        "id": "StO1Lx6S-Y4z"
      },
      "source": [
        "Jetzt können wir auch erklären, was der Ausdruck \n",
        "\n",
        "```(trainZiffernBilder,trainZiffernLabels),(testZiffernBilder,testZiffernLabels) = mnist.load_data()``` \n",
        "\n",
        "bedeutet. Das erste Tupel `(trainZiffernBilder,trainZiffernLabels)` steht für den Datensatz, der für das Trainieren des Netzes genutzt wird. Das zweite Tupel ist der Datensatz für das Testen. Genau wie bei *Teachable Machine*!\n"
      ]
    },
    {
      "cell_type": "markdown",
      "metadata": {
        "id": "ME-dPXenGBTA"
      },
      "source": [
        "# 2. Daten aufbereiten\n",
        "\n",
        "Super. Jetzt nachdem wir wissen, mit was für Daten wir arbeiten, können wir diese für das Training vorbereiten. Fangen wir damit an, die Daten zu **normalisieren**. Der Wertebereich von 0-255 ist viel zu groß. Da unsere Gewichte zwischen 1 und 0 liegen sollen, müssen wir auch unsere Eingabewerte in diesem Bereich liegen."
      ]
    },
    {
      "cell_type": "markdown",
      "metadata": {
        "id": "faauS4hlGEzw"
      },
      "source": [
        "###Aufgabe\n",
        "\n",
        "Sorge dafür, dass die Test- und Trainingsdaten normalisiert sind!"
      ]
    },
    {
      "cell_type": "code",
      "metadata": {
        "id": "nWwn5id5-WKi",
        "colab": {
          "base_uri": "https://localhost:8080/",
          "height": 93,
          "referenced_widgets": [
            "eb1311fa784b4e7a8bff34cf8b4334fb",
            "c3599756c98f47139d35d333f6da7d6a",
            "e9672abe8913464f9e4e41cb8a295f73",
            "fc309f020a7c4610b915910ba6f988cf",
            "a2924de17ae04b8faf79548bc272b555",
            "28fe720857ce4aae87490ba13817e2f0",
            "94ee14dce914469d88f01ad830e418a5",
            "6a4a919192374e04804770298cab4c38",
            "ced6df008fa647d08df28195b4b95719",
            "d64517c5454f41b09901a3cbf20a6ad0",
            "25174c4e703c48ba88ad42c237dd92b2",
            "477c1d51e9f9419a8ab86d0bf2a5b651",
            "5abf123634454c0f9ca0f68520c2a4f0",
            "8a2ec781ce1748b9802bbb295d3032b5",
            "677e9a1bd76d452ca140f412bb9f0c3f",
            "66a4bb7da2fb473398c5e2d9acb5eebb",
            "ddf59124b5594376928412de3494238c"
          ]
        },
        "cellView": "form",
        "outputId": "63d7c023-6794-4ce2-f47f-05ce71785a0b"
      },
      "source": [
        "#@title\n",
        "items_layout = Layout( width='auto')     # override the default width of the button to 'auto' to let the button grow\n",
        "tipp_layout = Layout(visibility='hidden', width='auto')\n",
        "box_layout = Layout(display='flex',\n",
        "                    align_items='stretch',)\n",
        "\n",
        "tipps = ['Tipp 1', 'Tipp 2']\n",
        "cb = [Checkbox(description=word, layout=items_layout, value=False) for word in tipps]\n",
        "#cb1 = Checkbox(description='Tipp 1', layout=items_layout, value=True)\n",
        "tipp1 = 'Hier steht der erste Tipp'\n",
        "tipp2 = 'Hier steht der zweite Tipp'\n",
        "t1 = Textarea(value=tipp1, layout={'visibility':'hidden', 'width':'auto'})\n",
        "t2 = Textarea(value=tipp2, layout={'visibility':'hidden', 'width':'auto'})\n",
        "lbox = VBox([cb[0],t1])\n",
        "rbox = VBox([cb[1],t2])\n",
        "box = Box(children=[lbox,rbox], layout=box_layout)\n",
        "display(box)\n",
        "\n",
        "def changeVisHint1(change):\n",
        "  if cb[0].value:\n",
        "    t1.layout.visibility = 'visible'\n",
        "  else:\n",
        "    t1.layout.visibility = 'hidden'\n",
        "\n",
        "def changeVisHint2(change):\n",
        "  if cb[1].value:\n",
        "    t2.layout.visibility = 'visible'\n",
        "  else:\n",
        "    t2.layout.visibility = 'hidden'\n",
        "\n",
        "\n",
        "cb[0].observe(changeVisHint1,names='value')\n",
        "cb[1].observe(changeVisHint2,names='value')"
      ],
      "execution_count": null,
      "outputs": [
        {
          "output_type": "display_data",
          "data": {
            "application/vnd.jupyter.widget-view+json": {
              "model_id": "eb1311fa784b4e7a8bff34cf8b4334fb",
              "version_minor": 0,
              "version_major": 2
            },
            "text/plain": [
              "Box(children=(VBox(children=(Checkbox(value=False, description='Tipp 1', layout=Layout(width='auto')), Textare…"
            ]
          },
          "metadata": {
            "tags": []
          }
        }
      ]
    },
    {
      "cell_type": "code",
      "metadata": {
        "id": "-5M-eMXiGdsN",
        "colab": {
          "base_uri": "https://localhost:8080/",
          "height": 130
        },
        "outputId": "2f6dddd2-24eb-43a4-b449-f74243f9af62"
      },
      "source": [
        "(trainZiffernBilder,trainZiffernLabels),(testZiffernBilder,testZiffernLabels) = mnist.load_data()\n",
        "\n",
        "#Ergänze den Code\n",
        "trainZiffernBilder =\n",
        "testZiffernBilder ="
      ],
      "execution_count": null,
      "outputs": [
        {
          "output_type": "error",
          "ename": "SyntaxError",
          "evalue": "ignored",
          "traceback": [
            "\u001b[0;36m  File \u001b[0;32m\"<ipython-input-10-32c752b622bc>\"\u001b[0;36m, line \u001b[0;32m4\u001b[0m\n\u001b[0;31m    trainZiffernBilder =\u001b[0m\n\u001b[0m                        ^\u001b[0m\n\u001b[0;31mSyntaxError\u001b[0m\u001b[0;31m:\u001b[0m invalid syntax\n"
          ]
        }
      ]
    },
    {
      "cell_type": "code",
      "metadata": {
        "id": "WNLxu3aWGlos",
        "cellView": "form"
      },
      "source": [
        "#@title\n",
        "btn21 = Button(\n",
        "    description='Teste Lösung',\n",
        "    disabled=False,\n",
        "    button_style='success', # 'success', 'info', 'warning', 'danger' or ''\n",
        "    tooltip='Hier kannst du deine Lösung testen!',\n",
        "    icon='check' # (FontAwesome names without the `fa-` prefix)\n",
        ")\n",
        "\n",
        "(lsgTrainZiffernBilder,trainZiffernLabels),(lsgTestZiffernBilder,testZiffernLabels) = mnist.load_data()\n",
        "lsgTrainZiffernBilder = lsgTrainZiffernBilder / 255\n",
        "lsgTestZiffernBilder = lsgTestZiffernBilder / 255\n",
        "\n",
        "def checkLsg21(b):\n",
        "  output.clear()\n",
        "  display(btn21)  \n",
        "  if (lsgTrainZiffernBilder == trainZiffernBilder).all():\n",
        "    print('Super, die trainZiffernBilder sehen gut aus!')\n",
        "  else:\n",
        "    print('An trainZiffernBilder musst du noch schrauben!')\n",
        "  \n",
        "  if (lsgTestZiffernBilder == testZiffernBilder).all():\n",
        "    print('Super, testZiffernBilder sieht gut aus!')\n",
        "  else:\n",
        "    print('An testZiffernBilder musst du noch schrauben!')\n",
        "\n",
        "display(btn21)\n",
        "btn21.on_click(checkLsg21)\n",
        "\n"
      ],
      "execution_count": null,
      "outputs": []
    },
    {
      "cell_type": "markdown",
      "metadata": {
        "id": "vlLTmyvLILjD"
      },
      "source": [
        "# 3. Aufbau des Neuronalen Netzes\n",
        "\n",
        "Wir haben unsere Daten vorbereitet. Jetzt geht es ans Eingemachte! Um Daten zu verarbeiten, gibt es viele Methoden. Wir wollen ein **künstliches neuronales Netz** erstellen! Wie das allgemein aufgebaut ist, weißt du ja bereits. Um unser Netz zu erstellen wählen wir die Bibliothek *Keras*. Diese wird auch von professionellen Data Scientist genutzt.\n",
        "\n",
        "`model = tf.keras.Sequential()`\n",
        "\n",
        "Hiermit erstellen wir unser KNN-Objekt. Der Begriff **Sequential** steht dabei für den klassischen Aufbau den du bereits kennst. Es gibt auch noch andere, kompliziertere, Netzwerkarchitekturen, wie zu Beispiel *Convolutional Neural Networks*. Das Netz aus *Teachable Machine* war zum Beispiel so eins.\n",
        "\n",
        "`model.add(tf.keras.layers.Flatten(input_shape=(X,Y)))`\n",
        "\n",
        "Mit diesem Befehl sagen wir Keras, welche Form (beziehungsweise **Dimensionen**) unsere **Input Daten** haben. Diese werden dann anschließend so neu angeordnet  (geflacht), dass sie dem Netz übergeben werden können. Erinnerst du dich noch welche Dimensionen die Input Daten hatten?\n",
        "\n",
        "`model.add(tf.keras.layers.Dense(128,activation=tf.nn.relu))`\n",
        "\n",
        "`model.add(tf.keras.layers.Dense(Z,activation=tf.nn.softmax))`\n",
        "\n",
        "Hier haben wir die Herzstücke der Modellerstellung. Hier generieren wir im ersten Schritt die versteckte Schicht (**Hidden Layer**). Neben der Aktivierungsfunktion, die hier schon vorgeschrieben ist, legen wir hier die Anzahl der Neuronen *Z* fest. Anschließend erstellen wir die Ausgabeschicht (**Output Layer**). Wie viele Ausgabeneuronen benötigen wir wohl?\n",
        "\n",
        "`opt = keras.optimizers.Adam(learning_rate=0.1)`\n",
        "\n",
        "Hier legen wir unseren **Optimisierungs-** bzw. **Lernalgorithmus** fest. Da gibt es natürlich viele unterschiedliche, wir entscheiden uns für den guten *Adam*. Mit enthalten ist die Lernrate, die festlegt, wie stark die Gewichte des Netzes in jedem Durchlauf angepasst werden.  \n",
        "\n",
        "`model.compile(optimizer='adam', loss='sparse_categorical_crossentropy', metrics=['accuracy'])`\n",
        "\n",
        "Im letzten Schritt kompilieren wir unser Modell und wählen aus, wie es optimiert werden soll, nach welcher Art der Fehler berechnet und die Gewichte des Netzes angepasst werden sollen. An diesen Einstellungen kannst du später etwas experimentieren, um dein Modell zu verbessern."
      ]
    },
    {
      "cell_type": "markdown",
      "metadata": {
        "id": "1XPqzY9rIOHX"
      },
      "source": [
        "###Aufgabe\n",
        "\n",
        "Passe die Befehle an, indem du die großgeschrieben Parameter durch die notwendigen Werte ersetzt!"
      ]
    },
    {
      "cell_type": "code",
      "metadata": {
        "cellView": "form",
        "id": "b5Wm65qVIMOT",
        "colab": {
          "base_uri": "https://localhost:8080/",
          "height": 93,
          "referenced_widgets": [
            "fa448fab82f04c2d8c4a929f6b70d05b",
            "8235537a09804aba99bf784710701587",
            "a1d213d6ea8144ceb24698fc257c429c",
            "ff26ef09f14c4bd3bafe1d361490b33c",
            "89b7c707786f4b55916328b214a81241",
            "e6722f5ee71c484685dddcba4999b310",
            "d5c57e547eb647d28dfed0cbe2d02d75",
            "24efe8dd4d5349f6850411d30e94be2b",
            "c31559ad952c449e98cbb209be914af4",
            "0a2ff01fe2744d43b650255a60a67549",
            "30dd45bff4464b05b3defe2d24b647ed",
            "be0f466d4ff84c5aa9e0156c701b7006",
            "690b8f3638a240dd9d53743ba77d6fe3",
            "178e56b6eb644976bd24b2f089a6f4a0",
            "0e29767c628544a3b61264d14ad4488d",
            "e7a79bf12b3a42e292783728b2796bae",
            "f30fd8dabe3c436ab164497a3582641e",
            "a7650e15ca224c2aa37172343376c243",
            "dfa7fe3b451c4b83bdf82ac6c0c0b7e2",
            "5f96963e4e564a9691d27c33459f86d5"
          ]
        },
        "outputId": "54fff7be-9c79-406a-e5b6-b2862843c59c"
      },
      "source": [
        "#@title\n",
        "items_layout = Layout( width='auto')     # override the default width of the button to 'auto' to let the button grow\n",
        "box_layout = Layout(display='flex',\n",
        "                    align_items='stretch',)\n",
        "\n",
        "tipps = ['Tipp 1', 'Tipp 2']\n",
        "cb = [Checkbox(description=word, layout=items_layout, value=False) for word in tipps]\n",
        "\n",
        "tipp1 = 'Hier steht der erste Tipp'\n",
        "tipp2 = 'Hier steht der zweite Tipp'\n",
        "\n",
        "t1 = Textarea(value=tipp1, layout={'visibility':'hidden', 'width':'auto'})\n",
        "t2 = Textarea(value=tipp2, layout={'visibility':'hidden', 'width':'auto'})\n",
        "lbox = VBox([cb[0],t1])\n",
        "rbox = VBox([cb[1],t2])\n",
        "box = Box(children=[lbox,rbox], layout=box_layout)\n",
        "\n",
        "\n",
        "def transform(case):\n",
        "  if case:\n",
        "    return Layout(visibility='visible', width='auto')\n",
        "  else:\n",
        "    return Layout(visibility='hidden', width='auto')\n",
        "  #return {'true' : Layout(visibility='visible', width='auto'), 'false' : Layout(visibility='hidden', width='auto')}[case]\n",
        "\n",
        "widgets.dlink((cb[0],'value'),(t1,'layout'),transform)\n",
        "widgets.dlink((cb[1],'value'),(t2,'layout'),transform)\n",
        "\n",
        "display(box)"
      ],
      "execution_count": null,
      "outputs": [
        {
          "output_type": "display_data",
          "data": {
            "application/vnd.jupyter.widget-view+json": {
              "model_id": "fa448fab82f04c2d8c4a929f6b70d05b",
              "version_minor": 0,
              "version_major": 2
            },
            "text/plain": [
              "Box(children=(VBox(children=(Checkbox(value=False, description='Tipp 1', layout=Layout(width='auto')), Textare…"
            ]
          },
          "metadata": {
            "tags": []
          }
        }
      ]
    },
    {
      "cell_type": "code",
      "metadata": {
        "id": "SOGBozYvIdTj"
      },
      "source": [
        "#Diese Variablen brauchen die richtigen Werte!\n",
        "DIMENSION_1 =\n",
        "DIMENSION_2 =\n",
        "ANZAHL_AUSGABENEURONEN = \n",
        "\n",
        "model = tf.keras.Sequential()\n",
        "model.add(tf.keras.layers.Flatten(input_shape=(DIMENSION_1, DIMENSION_2)))\n",
        "model.add(tf.keras.layers.Dense(16,activation=tf.nn.relu))\n",
        "model.add(tf.keras.layers.Dense(ANZAHL_AUSGABENEURONEN,activation=tf.nn.softmax))\n",
        "opt = keras.optimizers.Adam(learning_rate=0.1)\n",
        "model.compile(optimizer=opt,\n",
        "loss='sparse_categorical_crossentropy',\n",
        "metrics=['accuracy'])"
      ],
      "execution_count": null,
      "outputs": []
    },
    {
      "cell_type": "code",
      "metadata": {
        "cellView": "form",
        "id": "pxEeBzB4IftV"
      },
      "source": [
        "#@title\n",
        "btn31 = Button(\n",
        "    description='Teste Lösung',\n",
        "    disabled=False,\n",
        "    button_style='success', # 'success', 'info', 'warning', 'danger' or ''\n",
        "    tooltip='Hier kannst du deine Lösung testen!',\n",
        "    icon='check' # (FontAwesome names without the `fa-` prefix)\n",
        ")\n",
        "\n",
        "def checkLsg2(b):\n",
        "  output.clear()\n",
        "  display(btn31)  \n",
        "  if DIMENSION_1 == 28 and DIMENSION_2 == 28:\n",
        "    print('Super, die Dimensionen stimmen :)')\n",
        "  else:\n",
        "    print('An den Dimensionen musst du noch schrauben!')\n",
        "  if  ANZAHL_AUSGABENEURONEN == 10:\n",
        "    print('Super, die Anzahl der Ausgabeneuronen sind richtig!')\n",
        "  else:\n",
        "    print('Wieviele unterschiedliche Ziffern soll das Netz nochmal erkennen?')\n",
        "  \n",
        "\n",
        "btn31.on_click(checkLsg2)\n",
        "display(btn31)"
      ],
      "execution_count": null,
      "outputs": []
    },
    {
      "cell_type": "markdown",
      "metadata": {
        "id": "nR6DkmHIhk4x"
      },
      "source": [
        "Wir haben unser Modell erstellt! Natürlich haben wir für den Anfang einige Werte angenommen, wie beispielsweise die Lernrate oder die Anzahl der Neuronen im *Hidden Layer*. Wenn wir das Netz trainiert und getestet haben, wissen wir, ob wir unsere Werte anpassen müssen."
      ]
    },
    {
      "cell_type": "markdown",
      "metadata": {
        "id": "XTXL1SJ8It6t"
      },
      "source": [
        "#4. Netz trainieren\n",
        "\n",
        "Wir haben unser Netz erstellt, jetzt müssen wir es nur noch trainieren! Dazu gibt es in Keras natürlich auch eine praktische Methode: ```model.fit()```\n",
        "\n",
        "Damit diese aber unser Netz trainieren kann, braucht sie natürlich ein paar Informationen. Welche sind das nochmal?"
      ]
    },
    {
      "cell_type": "code",
      "metadata": {
        "cellView": "form",
        "id": "-E3shuiuIvJK"
      },
      "source": [
        "#@title\n",
        "items_layout = Layout( width='auto')     # override the default width of the button to 'auto' to let the button grow\n",
        "layout_tipp = Layout(width='auto', border_with='hidden')\n",
        "box_layout = Layout(display='flex',\n",
        "                    align_items='stretch',)\n",
        "\n",
        "cb_text = ['Testdaten',\n",
        "           'Trainingsdaten',\n",
        "           'Testlabels',\n",
        "           'Trainingslabels',\n",
        "           'Epochen',\n",
        "           'Batchgröße']\n",
        "corr_answ = [False,\n",
        "             True,\n",
        "             False,\n",
        "             True,\n",
        "             True,\n",
        "             True]\n",
        "\n",
        "\n",
        "tipp_text = ['Hier steht der erste Tipp',\n",
        "            'Hier steht der zweite Tipp',\n",
        "            'Hier steht der dritte Tipp',\n",
        "            'Hier steht der 4. Tipp',\n",
        "            'Hier steht der 5. Tipp',\n",
        "            'Hier steht der 6. Tipp']\n",
        "\n",
        "btn41 = Button(\n",
        "    description='Teste Lösung',\n",
        "    disabled=False,\n",
        "    button_style='success', # 'success', 'info', 'warning', 'danger' or ''\n",
        "    tooltip='Hier kannst du deine Lösung testen!',\n",
        "    icon='check' # (FontAwesome names without the `fa-` prefix)\n",
        ")\n",
        "\n",
        "cb = [Checkbox(description=word, layout=items_layout, value=False) for word in cb_text]\n",
        "ta = [Text(value = '', layout=layout_tipp) for x in cb]\n",
        "vboxes = []\n",
        "\n",
        "for i in range(len(cb)):\n",
        "  vboxes.append(VBox([cb[i],ta[i]]))\n",
        "\n",
        "box = Box(children=vboxes, layout=box_layout)\n",
        "display(box)\n",
        "\n",
        "\n",
        "\n",
        "\n",
        "def checkLsg4(b):  \n",
        "  for i in range(len(vboxes)):\n",
        "    if cb[i].value == corr_answ[i]:\n",
        "      ta[i].value = 'vollkommen richtig!'\n",
        "    else:\n",
        "      ta[i].value = tipp_text[i]\n",
        "\n",
        "btn41.on_click(checkLsg4)\n",
        "display(btn41)"
      ],
      "execution_count": null,
      "outputs": []
    },
    {
      "cell_type": "markdown",
      "metadata": {
        "id": "bgcmmKGhJQmw"
      },
      "source": [
        "###Aufgabe\n",
        "Wenn du alles richtig hast, klapp die Aufgabe auf!"
      ]
    },
    {
      "cell_type": "markdown",
      "metadata": {
        "id": "-c4kmLL5JRib"
      },
      "source": [
        "Genau so ist es. Um unser Netz zu benutzen benötigen wir natürlich unsere Trainingsdaten. Um unseren Model auch mitzuteilen, was es denn bei jedem Bild erkannt haben sollte, brauchen wir auch die Label. Anschließend können wir die Anzahl der Epochen und die Batchgröße festlegen.\n",
        "\n",
        "Dann wollen wir das mal tun! ```model.fit()``` hat viele Parameter. Wir konzentrieren uns auf die wesentlichen:\n",
        "\n",
        "```\n",
        "model.fit(x,y,batchs_size, epochs)\n",
        "  x  -  Liste mit Trainingsdaten\n",
        "  y  -  Liste mit Trainingslabel\n",
        "```\n",
        "\n",
        "Lege deine Parameter fest und trainiere das Netz!"
      ]
    },
    {
      "cell_type": "code",
      "metadata": {
        "id": "LJcZQtmLJUzt"
      },
      "source": [
        "verlauf = model.fit(________,____________,________,________)"
      ],
      "execution_count": null,
      "outputs": []
    },
    {
      "cell_type": "markdown",
      "metadata": {
        "id": "SWKU2g2dJYxv"
      },
      "source": [
        "Du konntest Live Zeuge werden, wie dein Netz trainiert wurde. Auf der rechten Seite stehen für jede Epoche die Werte **loss** und **accuracy**. Was die genau bedeuten, schauen wir uns jetzt an."
      ]
    },
    {
      "cell_type": "markdown",
      "metadata": {
        "id": "L7tWj6GwJao8"
      },
      "source": [
        "#5. Lernrate\n",
        "\n",
        "Die Werte *loss* und *accuracy* sind Metriken. Eine **Metrik** ist eine Funktion die die Leistung des Modells bewertet. Beim Maschinellen Lernen werden verschiedenste Metriken genutzt, wir wollen uns hier nur mit den zwei wichtigsten beschäftigen. Lassen wir uns das Ergebnis des Lernverlaufs doch einmal anzeigen:"
      ]
    },
    {
      "cell_type": "markdown",
      "metadata": {
        "id": "ozMP6dteJcpl"
      },
      "source": [
        "## Genauigkeit\n",
        "\n",
        "Die **accuracy** gibt an, wie oft das Modell richtig lag, also wie oft die Einschätzung des Netzes mit dem Testlabel übereinstimmt. Diese Metrik ist natürlich die wichtigste, weil sie prüft ob unser Modell seine Aufgabe erfüllt. Für unser Beispiel heißt das, dass unser Modell bei einem gegebenen Bild die richtige Zahl einschätzt. Im besten Fall ist unsere *accuracy* sehr hoch mit einem Maximalwert von 1 (das heißt wir erkennen die richtige Zahl in 100% der Fälle)."
      ]
    },
    {
      "cell_type": "code",
      "metadata": {
        "id": "4Ge1W7FUJdCM"
      },
      "source": [
        "plt.figure(figsize=(10,5))\n",
        "plt.plot(verlauf.history['accuracy'])\n",
        "plt.title('Genauigkeit')\n",
        "plt.ylabel('Mittlere Genauigkeit')\n",
        "plt.xlabel('Epochen Nummer')"
      ],
      "execution_count": null,
      "outputs": []
    },
    {
      "cell_type": "markdown",
      "metadata": {
        "id": "yMEkR7BsJo9H"
      },
      "source": [
        "## Verlust\n",
        "\n",
        "Ein ebenfalls sehr wichtige Metrik ist der Verlust bzw. die Fehlerrate. Stellen wir uns vor wir wollen Spam-Mails von richtigen Mails unterscheiden. Eine schlechte *accuracy* würde dann bedeuten, dass wir manchmal eine Spam-Mail als richtige Mail einschätzen. Das ist für den Nutzer natürlich nervig, aber meistens nicht weiter schlimm. Andersherum wäre das Problem aber weitaus kritischer. Eine große Fehlerrate würde bedeuten, dass wir richtige E-Mails als Spam einschätzen! Das ist natürlich wesentlich schlimmer, da diese Mails dann nicht beim Nutzer ankommen könnten. Daher ist der Blick auf den Verlust ebenfalls sehr wertvoll und dieser möglichst klein zu halten."
      ]
    },
    {
      "cell_type": "code",
      "metadata": {
        "id": "2w1pcAUlJeuk"
      },
      "source": [
        "plt.figure(figsize=(10,5))\n",
        "plt.plot(verlauf.history['loss'])\n",
        "plt.title('Verlust')\n",
        "plt.ylabel('Mittlerer Fehler')\n",
        "plt.xlabel('Epochen Nummer')\n",
        "plt.show()"
      ],
      "execution_count": null,
      "outputs": []
    },
    {
      "cell_type": "markdown",
      "metadata": {
        "id": "5VNDz0NXijau"
      },
      "source": [
        "Sehen die Metriken etwas wüst aus? Das lässt erste Schlüsse auf die Stärke unseres Modells zu, aber natürlich müssen wir das genauer prüfen."
      ]
    },
    {
      "cell_type": "markdown",
      "metadata": {
        "id": "eYryALGXJuHJ"
      },
      "source": [
        "#6. Das Netz prüfen\n",
        "\n",
        "Unser Modell ist trainiert! Jetzt wollen wir natürlich wissen, wie gut es funktioniert. Zum Glück haben wir uns unsere **Testdaten** reserviert. Entscheidend ist nämlich nicht, dass unser Netz für unsere Trainingsdaten funktioniert. Diese hätte es ja auch einfach auswendig lernen können (Stichwort **overfitting**). Stattdessen interessiert uns natürlich, ob das Model aus den Daten die wichtigen Informationen abstrahiert hat und jetzt auf neue, unbekannte, Daten übertragen kann. Also genau das, was wir als Lernen verstehen."
      ]
    },
    {
      "cell_type": "markdown",
      "metadata": {
        "id": "AxsITfeaJwfG"
      },
      "source": [
        "Wir verwenden dazu die Methode ```model.predict()```. Diese beschreibt einfach die Anwendung des Netzes. Das bedeutet, wir übergeben der Funktion ein Bild. Anschließend erhalten wir eine Liste an Zahlen. Jede der Einträge ist der Wert eines Neurons aus der Ausgabeschicht. Zur Erinnerung: Wir hatten 10 Neuronen im *output layer*, weil jedes Neuron für eine Ziffer steht. Wir müssen aus unserer Liste also nur das Element finden, dass den höchsten Wert hat!"
      ]
    },
    {
      "cell_type": "markdown",
      "metadata": {
        "id": "vM6OEiswJx-6"
      },
      "source": [
        "###Aufgabe\n",
        "\n",
        "Ergänze die Befehle, die mit einem ```TODO:``` gekennzeichnet sind. Wende auf das Model die Methode ```model.predict()``` an und übergebe ihr ein ```testBild```! Suche aus den ```erkennungsRaten``` den Eintrag mit der höchsten Zahl ```erkannteZahl```."
      ]
    },
    {
      "cell_type": "code",
      "metadata": {
        "id": "GE48Nk96J10v"
      },
      "source": [
        "#Das ist der Index im Array unseres Testdatensatz für unsere Testzahl. Wähle einen beliebigen Index aus!\n",
        "gesuchteZahlIndex = \n",
        "\n",
        "#TODO: jetzt müssen wir aus dem Testdatensatz das entsprechende Bild bekommen\n",
        "testBild = \n",
        "\n",
        "#mit diesem Befehl passen wir unser Testbild dem shape (0,28,28) an,\n",
        "#welches das Modell erwartet\n",
        "testBild = numpy.asarray([testBild])\n",
        "\n",
        "#TODO: hier lassen wir unser Model mit predict() auf unser Testbild los\n",
        "erkennungsRaten = \n",
        "\n",
        "#da die Erkennungsraten und Labels in verschachtelten Listen stecken, können wir sie mit flatten()\n",
        "#in eine große Liste zusammen \"flachen\"\n",
        "flattendEr = erkennungsRaten.flatten() \n",
        "\n",
        "#TODO: jetzt müssen wir nur noch aus flattendEr heraussuchen, an welcher Stelle der höchste Eintrag steht\n",
        "erkannteZahl = \n",
        "\n",
        "print('Die erkannte Zahl ist: ' + str(erkannteZahl))"
      ],
      "execution_count": null,
      "outputs": []
    },
    {
      "cell_type": "markdown",
      "metadata": {
        "id": "xKvf3eYlKFoX"
      },
      "source": [
        "Juhu, geschafft! Wir haben unser Netz nicht nur trainiert, wir können auch es auch nutzen! Führe den nächsten Code aus, um dir das Bild der Zahl und die Einschätzung unseres Modells für jede mögliche Ziffer anzuzeigen. Hat sich dein Netz richtig entschieden?"
      ]
    },
    {
      "cell_type": "code",
      "metadata": {
        "id": "epYzoH3vKEaz"
      },
      "source": [
        "flattendTZLabels = testZiffernLabels.flatten()\n",
        "\n",
        "#Ausgabe der gesuchten Zahl als Bild\n",
        "imageArray = numpy.asfarray (testZiffernBilder[gesuchteZahlIndex]).reshape((28,28)) #mal wieder shape so anpassen, dass wir es als Bild ausgeben können\n",
        "plt.imshow(imageArray, cmap='Greys',interpolation='None')\n",
        "plt.axis('off')\n",
        "plt.show()\n",
        "\n",
        "print (\"gesuchte Zahl: \",flattendTZLabels[gesuchteZahlIndex]) #Angeben welches Label die Zahl hat\n",
        "\n",
        "# Ausgabe der Erkennungsraten für die Zahlen 0..9\n",
        "counter = 0\n",
        "while counter < 10:\n",
        "    readAbleErkennung = flattendEr[counter] * 10000\n",
        "    readAbleErkennung = readAbleErkennung.astype(int)\n",
        "    readAbleErkennung = readAbleErkennung / 10000\n",
        "    print (\" Zahl:\", counter, \" Erkennungsrate:\",readAbleErkennung)\n",
        "    counter = counter + 1"
      ],
      "execution_count": null,
      "outputs": []
    },
    {
      "cell_type": "markdown",
      "metadata": {
        "id": "ESb9FhKwKOvh"
      },
      "source": [
        "###Zufällige Zahlen\n",
        "\n",
        "Drücke den Button. Anschließend wird ein zufälliges Bild aus dem Testdatensatz ausgewählt und angezeigt. Dazu siehst du was dein Modell schätzt."
      ]
    },
    {
      "cell_type": "code",
      "metadata": {
        "id": "yVzcnmodKPcT",
        "cellView": "form"
      },
      "source": [
        "#@title\n",
        "import random\n",
        "\n",
        "btn62 = Button(\n",
        "    description='Starte',\n",
        "    disabled=False,\n",
        "    button_style='success', # 'success', 'info', 'warning', 'danger' or ''\n",
        "    tooltip='Hier kannst du deine Lösung testen!',\n",
        "    icon='check' # (FontAwesome names without the `fa-` prefix)\n",
        ")\n",
        "\n",
        "def checkLsg62(b):\n",
        "  output.clear()\n",
        "  display(btn62)\n",
        "  \n",
        "  #get random Bild\n",
        "  randomIndexList = range(len(testZiffernBilder))\n",
        "  gesuchteZahlIndex = random.choice (randomIndexList)\n",
        "  \n",
        "  #predicte Bild\n",
        "  erkennungsRaten = model.predict (testZiffernBilder[gesuchteZahlIndex:gesuchteZahlIndex+1])\n",
        "\n",
        "  flattendEr = erkennungsRaten.flatten() \n",
        "  flattendTZLabels = testZiffernLabels.flatten()\n",
        "\n",
        "  #Ausgabe Bild\n",
        "  imageArray = numpy.asfarray (testZiffernBilder[gesuchteZahlIndex:gesuchteZahlIndex+1]).reshape((28,28))\n",
        "  plt.imshow(imageArray, cmap='Greys',interpolation='None')\n",
        "  plt.axis('off')\n",
        "  plt.show()\n",
        "  print (\"gesuchte Zahl: \",flattendTZLabels[gesuchteZahlIndex])\n",
        "  \n",
        "  #Ausgabe Prediction\n",
        "  erkannteZahl = numpy.argmax(flattendEr)\n",
        "  print('erkannte Zahl: ' + str(erkannteZahl))\n",
        "\n",
        "btn62.on_click(checkLsg62)\n",
        "display(btn62)\n",
        "\n"
      ],
      "execution_count": null,
      "outputs": []
    },
    {
      "cell_type": "markdown",
      "metadata": {
        "id": "32KUM1psSQK8"
      },
      "source": [
        "###Aufgabe\n",
        "\n",
        "Jetzt haben wir ausschnittsweise unser Model überprüft, aber das ist natürlich sehr mühselig. Gibt es dafür auch eine Funktion in der Bibliothek? Natürlich! Mit `model.evaluate()` kannst du das Netz mithilfe deiner Testdaten überprüfen. \n",
        "```\n",
        "model.evaluate(x,y,batchs_size, batch_size)\n",
        "  x  -  Liste mit Testdaten\n",
        "  y  -  Liste mit Testlabel\n",
        "```"
      ]
    },
    {
      "cell_type": "code",
      "metadata": {
        "id": "IFeeRJowTJVs"
      },
      "source": [
        "ergebnisse = model.evaluate(___________, ____________, _______)\n",
        "\n",
        "print('Genauigkeit: ' + str(ergebnisse[1]))\n",
        "print('Verlust: ' + str(ergebnisse[0]))"
      ],
      "execution_count": null,
      "outputs": []
    },
    {
      "cell_type": "markdown",
      "metadata": {
        "id": "-VRdGf9cTReY"
      },
      "source": [
        "Auch hier gilt die Faustregel: je höher die Genauigkeit und niedriger der Verlust desto besser!"
      ]
    },
    {
      "cell_type": "markdown",
      "metadata": {
        "id": "mWSd8k5qR7uN"
      },
      "source": [
        "#7. Das Model weiter verfeinern\n",
        "\n",
        "Wir haben alle Schritte abgeschlossen, jetzt gilt es unsere Metriken zu betrachten und unser Modell zu verfeinern. Dazu haben wir mehrere Möglichkeiten. Weiter unten findest du das Programm nochmal komplett, dann kannst du Änderungen direkt ohne lästiges hin und her scrollen durchführen."
      ]
    },
    {
      "cell_type": "markdown",
      "metadata": {
        "id": "pGbEYOFYM08U"
      },
      "source": [
        "\n",
        "1.   Wir können die Architektur unseres Netzes verändern oder sogar das ganze Modell\n",
        "\n",
        "In diesem Fall halten wir es simpel und verändern die Anzahl der Neuronen im *hidden layer* und die *batch-* oder *Epochengröße*. Sogar die Lernrate können wir verändern, indem wir unseren Optimieralgorithmus *Adam* anpassen. Wenn du möchtest kannst du im *compile()* Schritt auch die Art der Fehlerberechnung ändern. \n",
        "<pre>\n",
        "model = tf.keras.Sequential()\n",
        "model.add(tf.keras.layers.Flatten(input_shape=(28, 28)))\n",
        "model.add(tf.keras.layers.Dense(<font size=\"+1\"><b>16</b></font>,activation=tf.nn.relu))\n",
        "model.add(tf.keras.layers.Dense(10,activation=tf.nn.softmax))\n",
        "opt = keras.optimizers.Adam(<font size=\"+1\"><b>learning_rate=0.1</b></font>)\n",
        "model.compile(optimizer=opt,\n",
        "<font size=\"+1\"><b>loss='sparse_categorical_crossentropy'</b></font>,\n",
        "metrics=['accuracy'])\n",
        "</pre>\n",
        "\n",
        "Andere mögliche Loss-Funktion: `categorical_crossentropy `"
      ]
    },
    {
      "cell_type": "markdown",
      "metadata": {
        "id": "SaubfGbjUBsz"
      },
      "source": [
        "2.   Wir können unsere Trainingsdaten verbessern.\n",
        "\n",
        "Eigentlich der erste und meist sinnvollste Punkt. Das Problem: oftmals ist das Sammeln und Aufbereiten von Daten extrem kompliziert, aufwendig oder schlicht nicht möglich. Was tun? Nun, wir können unsere bestehenden Daten verbessern. Schauen wir uns die Zahlen an, fällt uns auf, dass alle Zahlen hübsch zentriert und relativ gerade im Kästchen stehen. In der Realität ist das selten der Fall. So können sich die Zahlen auch einmal halb außerhalb des Kästchens befinden oder viel langgestreckter sein.\n",
        "\n",
        "Dementsprechend können wir unsere Bilder anpassen, um auch diesen Fall zu simulieren. Welche Arten der Augmentation es gibt und wie du diese für das Dataset umsetzen kannst, findest du [hier](https://medium.com/the-data-science-publication/how-to-augment-the-mnist-dataset-using-tensorflow-4fbf113e99a0). \n",
        "\n",
        "**Achtung:** Achte darauf die Bilder anschließend wieder in die richtige Form für unser Netz zu bringen."
      ]
    },
    {
      "cell_type": "markdown",
      "metadata": {
        "id": "KykdSYJBXwHr"
      },
      "source": [
        "###Aufgabe\n",
        "\n",
        "Optimiere dein Modell so, dass Genauigkeit und Verlust möglichst gut sind. Untersuche folgende Aufgabenstellungen:\n",
        "\n",
        "1.   Verändere die Anzahl der Epochen. Beschreibe/erkläre\n",
        "die Auswirkungen. Ermittle dazu sinnvolle\n",
        "Ober-/Untergrenzen.\n",
        "\n",
        "2.   Verändere die Anzahl der Knoten in Zeile 16. Beschreibe\n",
        "die Auswirkungen auf das Ergebnis und erkläre\n",
        "die Veränderungen.\n",
        "\n",
        "3.   Ermittle, wo eine sinnvolle Unter-/Obergrenze für\n",
        "die Knotenanzahl liegt.\n",
        "\n",
        "4.   Überlege, welche Auswirkungen eine zu große Knotenanzahl\n",
        "bei kleinen Datensätzen haben kann.\n",
        "\n"
      ]
    },
    {
      "cell_type": "code",
      "metadata": {
        "id": "rmsAPAQsXoJB",
        "colab": {
          "base_uri": "https://localhost:8080/",
          "height": 1000
        },
        "outputId": "6fd2280f-c466-48b1-cfef-f3217d4a3f2b"
      },
      "source": [
        "#Komplettes Programm\n",
        "\n",
        "#Laden und normalisieren des Datensatzes\n",
        "mnist = tf.keras.datasets.mnist\n",
        "(trainZiffernBilder,trainZiffernLabels),(testZiffernBilder,testZiffernLabels) = mnist.load_data()\n",
        "\n",
        "trainZiffernBilder = trainZiffernBilder /255\n",
        "testZiffernBilder = testZiffernBilder / 255\n",
        "\n",
        "#Erstellen des Models\n",
        "model = tf.keras.Sequential()\n",
        "model.add(tf.keras.layers.Flatten(input_shape=(28, 28)))\n",
        "model.add(tf.keras.layers.Dense(16,activation=tf.nn.relu))\n",
        "model.add(tf.keras.layers.Dense(10,activation=tf.nn.softmax))\n",
        "opt = keras.optimizers.Adam(learning_rate=0.01)\n",
        "model.compile(optimizer=opt,\n",
        "loss='sparse_categorical_crossentropy',\n",
        "metrics=['accuracy'])\n",
        "\n",
        "#Training\n",
        "verlauf = model.fit(trainZiffernBilder, trainZiffernLabels,64,10)\n",
        "\n",
        "#Metriken visualisieren\n",
        "plt.figure(figsize=(10,5))\n",
        "plt.plot(verlauf.history['accuracy'])\n",
        "plt.title('Genauigkeit')\n",
        "plt.ylabel('Mittlere Genauigkeit')\n",
        "plt.xlabel('Epochen Nummer')\n",
        "\n",
        "plt.figure(figsize=(10,5))\n",
        "plt.plot(verlauf.history['loss'], label='MAE (training data)')\n",
        "plt.title('Verlust')\n",
        "plt.ylabel('Mittlerer Fehler')\n",
        "plt.xlabel('Epochen Nummer')\n",
        "plt.show()\n",
        "\n",
        "#Testen an zufälligem Bild\n",
        "import random\n",
        "randomIndexList = range(len(testZiffernBilder))\n",
        "gesuchteZahlIndex = random.choice(randomIndexList)\n",
        "\n",
        "erkennungsRaten = model.predict (testZiffernBilder[gesuchteZahlIndex:gesuchteZahlIndex+1])\n",
        "\n",
        "flattendEr = erkennungsRaten.flatten() \n",
        "flattendTZLabels = testZiffernLabels.flatten()\n",
        "\n",
        "#Ausgabe der gesuchten Zahl als Bild\n",
        "imageArray = numpy.asfarray (testZiffernBilder[gesuchteZahlIndex:gesuchteZahlIndex+1]).reshape((28,28))\n",
        "plt.imshow(imageArray, cmap='Greys',interpolation='None')\n",
        "plt.axis('off')\n",
        "plt.show()\n",
        "print (\"gesuchte Zahl: \",flattendTZLabels[gesuchteZahlIndex])\n",
        "\n",
        "# Ausgabe der Erkennungsraten für die Zahlen 0..9\n",
        "counter = 0\n",
        "while counter < 10:\n",
        "    readAbleErkennung = flattendEr[counter] * 10000\n",
        "    readAbleErkennung = readAbleErkennung.astype(int)\n",
        "    readAbleErkennung = readAbleErkennung / 10000\n",
        "    print (\" Zahl:\", counter, \" Erkennungsrate:\",readAbleErkennung)\n",
        "    counter = counter + 1\n",
        "\n",
        "#Evaluation des Netzes\n",
        "verlust, genauigkeit = model.evaluate(testZiffernBilder, testZiffernLabels)\n",
        "print('Verlust: ', verlust)\n",
        "print('Genauigkeit: ', genauigkeit)\n"
      ],
      "execution_count": null,
      "outputs": [
        {
          "output_type": "stream",
          "text": [
            "Epoch 1/10\n",
            "938/938 [==============================] - 2s 2ms/step - loss: 0.3321 - accuracy: 0.9024\n",
            "Epoch 2/10\n",
            "938/938 [==============================] - 2s 2ms/step - loss: 0.2247 - accuracy: 0.9335\n",
            "Epoch 3/10\n",
            "938/938 [==============================] - 2s 2ms/step - loss: 0.2036 - accuracy: 0.9397\n",
            "Epoch 4/10\n",
            "938/938 [==============================] - 2s 2ms/step - loss: 0.1886 - accuracy: 0.9437\n",
            "Epoch 5/10\n",
            "938/938 [==============================] - 2s 2ms/step - loss: 0.1767 - accuracy: 0.9472\n",
            "Epoch 6/10\n",
            "938/938 [==============================] - 2s 2ms/step - loss: 0.1724 - accuracy: 0.9487\n",
            "Epoch 7/10\n",
            "938/938 [==============================] - 2s 2ms/step - loss: 0.1676 - accuracy: 0.9497\n",
            "Epoch 8/10\n",
            "938/938 [==============================] - 2s 2ms/step - loss: 0.1624 - accuracy: 0.9517\n",
            "Epoch 9/10\n",
            "938/938 [==============================] - 2s 2ms/step - loss: 0.1593 - accuracy: 0.9525\n",
            "Epoch 10/10\n",
            "938/938 [==============================] - 2s 2ms/step - loss: 0.1609 - accuracy: 0.9519\n"
          ],
          "name": "stdout"
        },
        {
          "output_type": "display_data",
          "data": {
            "image/png": "[encoded data removed]",
            "text/plain": [
              "<Figure size 720x360 with 1 Axes>"
            ]
          },
          "metadata": {
            "tags": [],
            "needs_background": "light"
          }
        },
        {
          "output_type": "display_data",
          "data": {
            "image/png": "[encoded data removed]",
            "text/plain": [
              "<Figure size 720x360 with 1 Axes>"
            ]
          },
          "metadata": {
            "tags": [],
            "needs_background": "light"
          }
        },
        {
          "output_type": "display_data",
          "data": {
            "image/png": "[encoded data removed]",
            "text/plain": [
              "<Figure size 432x288 with 1 Axes>"
            ]
          },
          "metadata": {
            "tags": [],
            "needs_background": "light"
          }
        },
        {
          "output_type": "stream",
          "text": [
            "gesuchte Zahl:  7\n",
            " Zahl: 0  Erkennungsrate: 0.0\n",
            " Zahl: 1  Erkennungsrate: 0.0001\n",
            " Zahl: 2  Erkennungsrate: 0.0\n",
            " Zahl: 3  Erkennungsrate: 0.0\n",
            " Zahl: 4  Erkennungsrate: 0.1399\n",
            " Zahl: 5  Erkennungsrate: 0.0\n",
            " Zahl: 6  Erkennungsrate: 0.0\n",
            " Zahl: 7  Erkennungsrate: 0.6219\n",
            " Zahl: 8  Erkennungsrate: 0.0\n",
            " Zahl: 9  Erkennungsrate: 0.2377\n",
            "313/313 [==============================] - 0s 1ms/step - loss: 0.1997 - accuracy: 0.9474\n",
            "Verlust:  0.19969215989112854\n",
            "Genauigkeit:  0.9473999738693237\n"
          ],
          "name": "stdout"
        }
      ]
    },
    {
      "cell_type": "markdown",
      "metadata": {
        "id": "lY-X3jgEahGi"
      },
      "source": [
        "# 8. Das Modell exportieren\n",
        "\n",
        "Wir haben es geschafft, unser Netz ist trainiert und optimiert. Was wir jetzt tun können, ist es zu exportieren und in der \"Wildnis\" zu testen, also mit echten Daten! Lade dir dein Netz mit dem Button unten herunter."
      ]
    },
    {
      "cell_type": "code",
      "metadata": {
        "colab": {
          "base_uri": "https://localhost:8080/",
          "height": 49,
          "referenced_widgets": [
            "eabcbaa6f1594f64907d4036b463bc2b",
            "e843c63ec4604b3d9495c51b0eaf8d02",
            "b6b1c3e5ecaf4bee8af5f2ac7cb5c0bd"
          ]
        },
        "id": "dgxBiioqbFPS",
        "outputId": "bdbabd70-10f4-4b4a-dcdc-9cff365f2675"
      },
      "source": [
        "#@title\n",
        "from google.colab import files\n",
        "btn81 = Button(\n",
        "    description='Starte',\n",
        "    disabled=False,\n",
        "    button_style='success', # 'success', 'info', 'warning', 'danger' or ''\n",
        "    tooltip='Hier kannst du deine Lösung testen!',\n",
        "    icon='check' # (FontAwesome names without the `fa-` prefix)\n",
        ")\n",
        "\n",
        "def checkLsg81(b):\n",
        "  model.save('mnist_model.h5', save_format='h5')\n",
        "  files.download('mnist_model.h5')\n",
        "\n",
        "btn81.on_click(checkLsg81)\n",
        "display(btn81)\n",
        "\n"
      ],
      "execution_count": null,
      "outputs": [
        {
          "output_type": "display_data",
          "data": {
            "application/vnd.jupyter.widget-view+json": {
              "model_id": "eabcbaa6f1594f64907d4036b463bc2b",
              "version_minor": 0,
              "version_major": 2
            },
            "text/plain": [
              "Button(button_style='success', description='Starte', icon='check', style=ButtonStyle(), tooltip='Hier kannst d…"
            ]
          },
          "metadata": {
            "tags": []
          }
        }
      ]
    }
  ]
}